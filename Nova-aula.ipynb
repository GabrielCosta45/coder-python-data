{
 "cells": [
  {
   "cell_type": "markdown",
   "metadata": {},
   "source": [
    "## Coder - Python\n",
    "\n"
   ]
  },
  {
   "cell_type": "code",
   "execution_count": null,
   "metadata": {},
   "outputs": [],
   "source": [
    "# faça um programa aonde o usuario coloca a idade e o programa diz se ele e maior ou menor de idade\n",
    "\n",
    "nome = input(\"Digite seu nome: \")\n",
    "idade = input(\"Digite sua idade: \")\n",
    "idade = int(idade)\n",
    "\n",
    "if idade >= 18:\n",
    "    print(f\"{nome} voce eh maior de idade\")\n",
    "else:   \n",
    "    print(f\"{nome} voce eh menor de idade\")\n"
   ]
  }
 ],
 "metadata": {
  "kernelspec": {
   "display_name": "Python 3",
   "language": "python",
   "name": "python3"
  },
  "language_info": {
   "name": "python",
   "version": "3.13.1"
  }
 },
 "nbformat": 4,
 "nbformat_minor": 2
}
