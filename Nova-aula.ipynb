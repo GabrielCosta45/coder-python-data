{
 "cells": [
  {
   "cell_type": "markdown",
   "metadata": {},
   "source": [
    "## Aula de revisão + GITHUB\n",
    "\n"
   ]
  },
  {
   "cell_type": "markdown",
   "metadata": {},
   "source": [
    "## Fluxos Sequeciais\n"
   ]
  },
  {
   "cell_type": "markdown",
   "metadata": {},
   "source": [
    "Faça um Programa que pergunte quanto você ganha por hora e o número de horas trabalhadas no mês. Calcule e mostre o total do seu salário no referido mês, sabendo-se que são descontados 11% para o imposto de renda, 8% para o INSS e 5% para o sindicato, faça um programa que nos dê: salário bruto. quanto pagou ao INSS. quanto pagou ao sindicato. o salário liquido. calcule os descontos e o salário líquido, conforme a tabela a baixo:\n",
    "\n",
    "- Salário Bruto\n",
    "- IR (11%)\n",
    "- INSS(8%)\n",
    "- SINDICATO (5%)"
   ]
  },
  {
   "cell_type": "code",
   "execution_count": 4,
   "metadata": {},
   "outputs": [
    {
     "name": "stdout",
     "output_type": "stream",
     "text": [
      "- salário bruto: R$2640.00\n",
      "- IR (11%): R$290.40\n",
      "- INSS (8%): R$211.20\n",
      "- Sindicato (5%): R$132.00\n",
      "= Salário Liquido: R$2006.40\n"
     ]
    }
   ],
   "source": [
    "# Solução\n",
    "\n",
    "# Pedir ao usuario o seu valor por hora\n",
    "\n",
    "valor_hora = float(input(\"Digite o seu valor por hora: \"))\n",
    "\n",
    "# Pedir ao usuario o numero de horas trabalhadas no mês\n",
    "\n",
    "horas_trabalhadas = float(input(\"Digite o numero de horas trabalhadas no mês: \"))\n",
    "\n",
    "# Multiplicar os dois valores anteriores e guardo numa variavel\n",
    "\n",
    "salario_bruto = valor_hora * horas_trabalhadas\n",
    "\n",
    "# Para saber o que pagar de IR, multiplico o salario bruto vezes 11% e guardo numa variavel\n",
    "\n",
    "valor_ir = salario_bruto * 0.11\n",
    "\n",
    "# Para saber o que pagar de INSS, multiplico o salario bruto vezes 8% guardo numa variavel\n",
    "\n",
    "valor_inss = salario_bruto * 0.08\n",
    "\n",
    "# Para saber o que pagar de SINDICATO, multiplico o salario bruto vezes 5% guardo numa variavel\n",
    "\n",
    "valor_sindicato = salario_bruto * 0.05\n",
    "\n",
    "# Imprimo a tabela conforme solicitado\n",
    "\n",
    "print(f\"- salário bruto: R${salario_bruto:.2f}\")\n",
    "print(f\"- IR (11%): R${valor_ir:.2f}\")\n",
    "print(f\"- INSS (8%): R${valor_inss:.2f}\")\n",
    "print(f\"- Sindicato (5%): R${valor_sindicato:.2f}\")\n",
    "print(f\"= Salário Liquido: R${salario_bruto - valor_ir - valor_inss - valor_sindicato:.2f}\")\n"
   ]
  },
  {
   "cell_type": "markdown",
   "metadata": {},
   "source": [
    "## Fluxos Condicionais"
   ]
  },
  {
   "cell_type": "markdown",
   "metadata": {},
   "source": [
    "Faça um programa que faça 5 perguntas para uma pessoa sobre um crime. As perguntas são:\n",
    "\n",
    "\"Telefonou para vitima?\" \"Esteve no local do crime ?\" \"Mora perto da vitima?\" \"Devia para a vitima?\" \"Já trabalhou com a vitima?\"\n",
    "\n",
    "O programa deve no final emitir uma classificação sobre a participação da pessoa no crime. Se a pessoa responder positivamente a 2 questões ela deve ser classificada como \"Suspeita\", entre 3 e 4 como \"Cúmplice\" e 5 como \"Assassino\". Caso contrário, ele será classificado como \"Inocente\"."
   ]
  },
  {
   "cell_type": "code",
   "execution_count": 20,
   "metadata": {},
   "outputs": [
    {
     "name": "stdout",
     "output_type": "stream",
     "text": [
      "Digite 0 para não e 1 para sim\n",
      "suspeito\n"
     ]
    }
   ],
   "source": [
    "# Solução\n",
    "\n",
    "# Cria uma lista com todas as perguntas\n",
    "perguntas = [\"Telefonou para vitima?\", \"Esteve no local do crime?\", \"Mora perto da vitima?\", \"Devia para vitima?\", \"Ja trabalhou com vitima?\"]\n",
    "\n",
    "# Cria uma variável para armazenar as respostas\n",
    "\n",
    "respostas = 0\n",
    "# Orientar para que ele responda 0 (n) ou 1 (s)\n",
    "\n",
    "print(\"Digite 0 para não e 1 para sim\")\n",
    "\n",
    "# Perguntar ao usuario seguindo a lista\n",
    "\n",
    "for pergunta in range(len(perguntas)):\n",
    "\n",
    "# A cada resposta, some a variável 0 (não) ou 1 (sim)\n",
    "\n",
    "    respostas += int(input(\"pergunta\"))\n",
    "\n",
    "\n",
    "# Se a quantidade de resposta positivas for igual a 2, imprimir \"suspeito\"\n",
    "\n",
    "if (respostas == 2):\n",
    "    print(\"suspeito\")\n",
    "\n",
    "# Se a quantidade de resposta positivas for entre 3 e 4, imprimr \"cumplice\"\n",
    "\n",
    "elif(respostas == 3 or 4):\n",
    "    print(\"cumplice\")\n",
    "\n",
    "# Se a quantidade de resposta positivas for igual a 5, imprimir \"assassino\"\n",
    "\n",
    "elif(respostas == 5):\n",
    "    print(\"assasino\")\n",
    "\n",
    "# caso contrario, imprimir \"inocente\"\n",
    "\n",
    "else:\n",
    "    print(\"inocente\")"
   ]
  },
  {
   "cell_type": "markdown",
   "metadata": {},
   "source": [
    "## Fluxos de Repetição"
   ]
  },
  {
   "cell_type": "markdown",
   "metadata": {},
   "source": [
    "Crie um programa em Python que solicita ao usuario uma senha numérica de 4 digitos. O programa deve repetir essa solicitação até que o usuário informe a senha correta(1234)"
   ]
  },
  {
   "cell_type": "code",
   "execution_count": 1,
   "metadata": {},
   "outputs": [
    {
     "name": "stdout",
     "output_type": "stream",
     "text": [
      "senha correta\n"
     ]
    }
   ],
   "source": [
    "# Solução\n",
    "\n",
    "# Crie um programa em python que solicita ao usuario uma senha de 4 digitos\n",
    "\n",
    "senha_digitada = int(input(\"Digite uma senha de 4 digitos: \"))\n",
    "\n",
    "# O programa deve repetir essa solicitação até que o usuario informe a senha correta 123\n",
    "\n",
    "senha_correta = 1234\n",
    "\n",
    "while senha_digitada != senha_correta:\n",
    "    print(\"senha incorreta, tente novamente! \")\n",
    "    senha_digitada = input(\"Digite a senha: \")\n",
    "\n",
    "print(\"senha correta\")\n",
    " "
   ]
  },
  {
   "cell_type": "markdown",
   "metadata": {},
   "source": [
    "# Uso de funções"
   ]
  },
  {
   "cell_type": "code",
   "execution_count": null,
   "metadata": {},
   "outputs": [
    {
     "name": "stdout",
     "output_type": "stream",
     "text": [
      "Bom dia! \n",
      "None\n",
      "Bom dia! \n",
      "None\n"
     ]
    }
   ],
   "source": [
    "def saudacao_by_periodo(horario):\n",
    "    \n",
    "    if horario == \"M\" or \"m\": # SE \n",
    "        print(\"Bom dia! \")\n",
    "    elif horario == \"V\" or \"v\": # ELSE + IF ---> DEFINE OUTRA CONDIÇÃO CASO A PRIMEIRA SEJA FALSA\n",
    "        print(\"Boa tarde! \")\n",
    "    elif horario == \"N\" or \"n\":\n",
    "        print(\"Boa noite! \")\n",
    "    else: # DEFINA UMA MENSAGEM SE TODAS AS CONDIÇÕES ANTERIORES FOREM FALSAS\n",
    "        return \"Valor inválido! \"\n",
    "\n",
    "horario = input(\"Digite o turno (M-matutino ou V-vespertino ou N-noturno): \")\n",
    "\n",
    "turnos = (\"M\", \"m\", \"V\", \"v\", \"N\", \"n\")\n",
    "\n",
    "while horario in turnos: # WHILE --> ENQUANTO A CONDIÇÃO FOR VERDADEIRA\n",
    "    print(saudacao_by_periodo(horario))\n",
    "    horario = input(\"Digite o turno (M-matutino ou V-vespertino ou N-noturno)\")"
   ]
  },
  {
   "cell_type": "markdown",
   "metadata": {},
   "source": [
    "## NUMPY: Exemplo\n",
    "\n",
    "\"Resenha de filme\" é um site de resenhas de filmes onde quatro bons amiggos e criticos de filmes: gabriel, kleber, leandro e rodrigo assistem a filmes e dão a eles notas em uma escala de 0 a 100"
   ]
  },
  {
   "cell_type": "code",
   "execution_count": null,
   "metadata": {},
   "outputs": [
    {
     "name": "stdout",
     "output_type": "stream",
     "text": [
      "[2.   0.75 2.   1.   0.5 ]\n"
     ]
    }
   ],
   "source": [
    "import numpy as np"
   ]
  },
  {
   "cell_type": "markdown",
   "metadata": {},
   "source": [
    "Quando toda turma classifica um filme, podemos armazenar suas classificações em um array NumPy movie_ratings:"
   ]
  },
  {
   "cell_type": "code",
   "execution_count": 8,
   "metadata": {},
   "outputs": [
    {
     "data": {
      "text/plain": [
       "array([[0.58019398, 0.40254031],\n",
       "       [0.5708339 , 0.91162446],\n",
       "       [0.51210616, 0.40730905],\n",
       "       [0.23341728, 0.9870342 ]])"
      ]
     },
     "execution_count": 8,
     "metadata": {},
     "output_type": "execute_result"
    }
   ],
   "source": [
    "movie_ratings = np.array([63.0, 54.0, 70.0, 50.0])\n",
    "movie_ratings.dtype\n",
    "\n",
    "random_ratings = np.random.rand(4,2)\n",
    "random_ratings"
   ]
  },
  {
   "cell_type": "markdown",
   "metadata": {},
   "source": [
    "Mas eles assistem a mais de um filme, então temos que criar uma matriz bidimensional onde cada linha contém suas classificações para um filme específico."
   ]
  },
  {
   "cell_type": "code",
   "execution_count": 18,
   "metadata": {},
   "outputs": [
    {
     "data": {
      "text/plain": [
       "array([[63., 54., 70., 50.],\n",
       "       [94., 85., 89., 95.],\n",
       "       [64., 90., 73., 85.]])"
      ]
     },
     "execution_count": 18,
     "metadata": {},
     "output_type": "execute_result"
    }
   ],
   "source": [
    "movie_ratings = np.array([[63.0, 54.0, 70.0, 50.0],\n",
    "                         [94.0, 85.0, 89.0, 95.0],\n",
    "                         [64.0, 90.0, 73.0, 85.0]])\n",
    "movie_ratings"
   ]
  },
  {
   "cell_type": "markdown",
   "metadata": {},
   "source": [
    "Alguns fãs preferem que os filmes sejam classificados em uma escala de cinco estrelas, então podemos usar o Numpy para dividir facilmente cada elemento por 20."
   ]
  },
  {
   "cell_type": "code",
   "execution_count": 19,
   "metadata": {},
   "outputs": [
    {
     "data": {
      "text/plain": [
       "array([[3.15, 2.7 , 3.5 , 2.5 ],\n",
       "       [4.7 , 4.25, 4.45, 4.75],\n",
       "       [3.2 , 4.5 , 3.65, 4.25]])"
      ]
     },
     "execution_count": 19,
     "metadata": {},
     "output_type": "execute_result"
    }
   ],
   "source": [
    "movie_ratings_stars = movie_ratings / 20\n",
    "movie_ratings_stars"
   ]
  },
  {
   "cell_type": "markdown",
   "metadata": {},
   "source": [
    "Agora, digamos que as classificações estejam sempre na mesma ordem (Luísa, Maria, Tony, Kaio). Se quiséssemos criar uma matriz que tivesse apenas as classificações de Tony, poderíamos selecioná-las em nossa matriz movie_rastings."
   ]
  },
  {
   "cell_type": "code",
   "execution_count": 26,
   "metadata": {},
   "outputs": [
    {
     "data": {
      "text/plain": [
       "array([70., 89., 73.])"
      ]
     },
     "execution_count": 26,
     "metadata": {},
     "output_type": "execute_result"
    }
   ],
   "source": [
    "tony_ratings = movie_ratings[:, 2]\n",
    "tony_ratings"
   ]
  },
  {
   "cell_type": "markdown",
   "metadata": {},
   "source": [
    "Agora, digamos que descobrimos que temos gostos muito parecidos com os de Maria, então queremos ver apenas filmes aos quais ele dá uma boa classificação. Podemos usar a lógica para selecionar esses filmes.\n",
    "\n",
    "Vamos selecionar todas as classificações de Maria que são acima de 80:"
   ]
  },
  {
   "cell_type": "code",
   "execution_count": 28,
   "metadata": {},
   "outputs": [
    {
     "data": {
      "text/plain": [
       "array([85., 90.])"
      ]
     },
     "execution_count": 28,
     "metadata": {},
     "output_type": "execute_result"
    }
   ],
   "source": [
    "maria_ratings = movie_ratings[:, 1]\n",
    "maria_ratings[maria_ratings> 80]"
   ]
  },
  {
   "cell_type": "markdown",
   "metadata": {},
   "source": [
    "## Numpy: Exercicio"
   ]
  },
  {
   "cell_type": "markdown",
   "metadata": {},
   "source": [
    "Farinha - 2 xícaras açúcar - 0,75 xícaras ovos - 2 ovos leite - 1 xícara manteiga - 0,5 xícaras \n",
    "\n",
    "Crie um array Numpy qeu represente esses dodos. Cada elemento deve ser um número (por exemplo, 2 para \"2 xícaras\"). Salve esse array como cupcakes."
   ]
  },
  {
   "cell_type": "code",
   "execution_count": 29,
   "metadata": {},
   "outputs": [
    {
     "name": "stdout",
     "output_type": "stream",
     "text": [
      "[2.   0.75 2.   1.   0.5 ]\n"
     ]
    }
   ],
   "source": [
    "# Solução\n",
    "cupcakes = np.array([2, 0.75, 2, 1, 0.5])\n",
    "print(cupcakes)"
   ]
  },
  {
   "cell_type": "markdown",
   "metadata": {},
   "source": [
    "A assistente de Joana compilou todas as suas receitas em um arquivo csv (comma-separated) chamado recipes.csv. Carregue esse arquivo em uma variável chamada recipes. Cada linha representa uma receita diferente. Cada coluna representa um ingrediente diferente."
   ]
  },
  {
   "cell_type": "code",
   "execution_count": 50,
   "metadata": {},
   "outputs": [
    {
     "data": {
      "text/plain": [
       "array([[2.   , 0.75 , 2.   , 1.   , 0.5  ],\n",
       "       [1.   , 0.125, 1.   , 1.   , 0.125],\n",
       "       [2.75 , 1.5  , 1.   , 0.   , 1.   ],\n",
       "       [4.   , 0.5  , 2.   , 2.   , 0.5  ]])"
      ]
     },
     "execution_count": 50,
     "metadata": {},
     "output_type": "execute_result"
    }
   ],
   "source": [
    "# Solução\n",
    "recipes = np.genfromtxt(\"recipes.csv\", delimiter=\",\")\n",
    "recipes"
   ]
  },
  {
   "cell_type": "markdown",
   "metadata": {},
   "source": [
    "A 3 coluna representa o número de ovos que cada receita necessita\n",
    "\n",
    "Selecione todos os elementos da 3 coluna e salve-os na variável eggs."
   ]
  },
  {
   "cell_type": "code",
   "execution_count": null,
   "metadata": {},
   "outputs": [
    {
     "data": {
      "text/plain": [
       "array([2.  , 0.75])"
      ]
     },
     "execution_count": 31,
     "metadata": {},
     "output_type": "execute_result"
    }
   ],
   "source": [
    "# Solução\n",
    "\n",
    "eggs = cupcakes[:2]\n",
    "eggs"
   ]
  },
  {
   "cell_type": "markdown",
   "metadata": {},
   "source": [
    " Quais receitas exigem exatamente 1 ovo? Use uma declaração lógica para obter True ou False para cada valor de eggs."
   ]
  },
  {
   "cell_type": "code",
   "execution_count": 33,
   "metadata": {},
   "outputs": [
    {
     "data": {
      "text/plain": [
       "array([1.])"
      ]
     },
     "execution_count": 33,
     "metadata": {},
     "output_type": "execute_result"
    }
   ],
   "source": [
    "# Solução\n",
    "\n",
    "one_eggs = cupcakes[cupcakes == 1]\n",
    "one_eggs"
   ]
  },
  {
   "cell_type": "markdown",
   "metadata": {},
   "source": [
    "Joana fará 2 fornadas de cupcakes (1 fileira) a 1 fornadade biscoitos (3 fileira)\n",
    "\n",
    "Você já tem uma variável para cupcakes. Crie uma variável cookies com os dados da 3 linha"
   ]
  },
  {
   "cell_type": "code",
   "execution_count": 51,
   "metadata": {},
   "outputs": [
    {
     "data": {
      "text/plain": [
       "array([2.75, 1.5 , 1.  , 0.  , 1.  ])"
      ]
     },
     "execution_count": 51,
     "metadata": {},
     "output_type": "execute_result"
    }
   ],
   "source": [
    "# Solução\n",
    "\n",
    "cookies = np.array(recipes[2]) # COPIA A LINHA 3 DO ARRAY RECIPES\n",
    "cookies"
   ]
  },
  {
   "cell_type": "markdown",
   "metadata": {},
   "source": [
    "Obtenha um número de ingredientes para uma porção dupla de cupcakes usando mulpiplicação em cupcakes.\n",
    "\n",
    "Salve sua nova variavel em double_batch"
   ]
  },
  {
   "cell_type": "code",
   "execution_count": 34,
   "metadata": {},
   "outputs": [
    {
     "data": {
      "text/plain": [
       "array([4. , 1.5, 4. , 2. , 1. ])"
      ]
     },
     "execution_count": 34,
     "metadata": {},
     "output_type": "execute_result"
    }
   ],
   "source": [
    "# Solução\n",
    "double_batch = cupcakes * 2\n",
    "double_batch"
   ]
  },
  {
   "cell_type": "markdown",
   "metadata": {},
   "source": [
    "Crie uma nova variável chamada grocery_list adicionando cookies e double_batch."
   ]
  },
  {
   "cell_type": "code",
   "execution_count": 36,
   "metadata": {},
   "outputs": [
    {
     "data": {
      "text/plain": [
       "array([[2.  , 0.75, 2.  , 1.  , 0.5 ],\n",
       "       [4.  , 1.5 , 4.  , 2.  , 1.  ]])"
      ]
     },
     "execution_count": 36,
     "metadata": {},
     "output_type": "execute_result"
    }
   ],
   "source": [
    "# Solução\n",
    "\n",
    "#grocery_list = cookies + double_batch\n",
    "grocery_list = np.array([cupcakes, double_batch])\n",
    "grocery_list"
   ]
  },
  {
   "cell_type": "markdown",
   "metadata": {},
   "source": [
    "## PANDAS: UMA BREVE INTRODUÇÃO\n",
    "\n",
    "O pandas pode nos fornecer respostas sobre os dados, como por exemplo:\n",
    "\n",
    "Existe uma correlação entre duas ou mais colunas? Qual é o valor? Qual o valor máximo? Qual o valor mínimo? O pandas também é capaz de excluir linhas que são irrelevantes ou que contêm valores incorretos, como valores vazios ou NULL, deixando os dados limpos.\n",
    "\n",
    "Relacionando inicialmente as funções do Numpy com o pandas, poderíamos gerar uma série com os dados da porção dupla de cupcakes:"
   ]
  },
  {
   "cell_type": "code",
   "execution_count": 37,
   "metadata": {},
   "outputs": [],
   "source": [
    "import pandas as pd"
   ]
  },
  {
   "cell_type": "code",
   "execution_count": null,
   "metadata": {},
   "outputs": [
    {
     "data": {
      "text/plain": [
       "0    4.0\n",
       "1    1.5\n",
       "2    4.0\n",
       "3    2.0\n",
       "4    1.0\n",
       "dtype: float64"
      ]
     },
     "execution_count": 38,
     "metadata": {},
     "output_type": "execute_result"
    }
   ],
   "source": [
    "double_batch_series = pd.Series(double_batch) # PARA INCLUIR INDICES PAR ACADA ELEMENTO\n",
    "double_batch_series"
   ]
  },
  {
   "cell_type": "markdown",
   "metadata": {},
   "source": [
    "Podemos gerar um DataFrame a partir de várias series:"
   ]
  },
  {
   "cell_type": "code",
   "execution_count": 52,
   "metadata": {},
   "outputs": [
    {
     "name": "stdout",
     "output_type": "stream",
     "text": [
      "      0      1    2    3      4\n",
      "0  2.00  0.750  2.0  1.0  0.500\n",
      "1  1.00  0.125  1.0  1.0  0.125\n",
      "2  2.75  1.500  1.0  0.0  1.000\n",
      "3  4.00  0.500  2.0  2.0  0.500\n"
     ]
    }
   ],
   "source": [
    "df = pd.DataFrame(recipes)\n",
    "print(df)"
   ]
  },
  {
   "cell_type": "markdown",
   "metadata": {},
   "source": [
    "Por exemplo, se precisássemos listar as nossas compras do supermercado, teríamos algo semelhante a isso:"
   ]
  },
  {
   "cell_type": "code",
   "execution_count": 53,
   "metadata": {},
   "outputs": [],
   "source": [
    "df = pd.DataFrame(recipes, columns=['Flour', 'Milk', 'Sugar', 'Butter', 'Eggs'])\n"
   ]
  },
  {
   "cell_type": "code",
   "execution_count": 54,
   "metadata": {},
   "outputs": [
    {
     "name": "stdout",
     "output_type": "stream",
     "text": [
      "   Flour   Milk  Sugar  Butter   Eggs\n",
      "0   2.00  0.750      2       1  0.500\n",
      "1   1.00  0.125      1       1  0.125\n",
      "2   2.75  1.500      1       0  1.000\n",
      "3   4.00  0.500      2       2  0.500\n"
     ]
    }
   ],
   "source": [
    "df2 = pd.read_csv('recipes.csv', delimiter=',' , names=['Flour', 'Milk', 'Sugar', 'Butter', 'Eggs'])\n",
    "print(df2)"
   ]
  },
  {
   "cell_type": "markdown",
   "metadata": {},
   "source": [
    "Exercicios escolhido para exemplo"
   ]
  },
  {
   "cell_type": "code",
   "execution_count": 59,
   "metadata": {},
   "outputs": [
    {
     "name": "stdout",
     "output_type": "stream",
     "text": [
      "   frutas  preco quantidade\n",
      "0  banana    7.9         12\n",
      "1    maca   10.2          3\n",
      "2    pera  11.88          4\n"
     ]
    }
   ],
   "source": [
    "# Exercicio escolhido\n",
    "# Crie um DataFrame com as seguintes informações:\n",
    "# Coluna \"fruta\": \"Banana\", \"Maça\", \"Pera\"\n",
    "# Coluna \"preço\": 7.90, 10.20, 11.88\n",
    "# Coluna \"quantidade\": 12, 3, 4\n",
    "\n",
    "feira = np.array([[\"banana\", \"maca\", \"pera\"],[7.90, 10.20, 11.88], [12, 3, 4]])\n",
    "\n",
    "df = pd.DataFrame(feira.T, columns=[\"frutas\", \"preco\", \"quantidade\"])\n",
    "\n",
    "print(df)"
   ]
  },
  {
   "cell_type": "markdown",
   "metadata": {},
   "source": [
    "## 📌 0. Importação e Visualização dos Dados"
   ]
  },
  {
   "cell_type": "markdown",
   "metadata": {},
   "source": [
    "Neste exemplo, trabalharemos com dados do ShoeFly.com, uma loja de calçados online fictícia. Podemos carregar dados no Pandas de um arquivo csv (variável separada por vírgula). Esses dados representam compras no ShoeFly.com. Vamos examinar as primeiras 10 linhas do nosso conjunto de dados:"
   ]
  },
  {
   "cell_type": "code",
   "execution_count": 12,
   "metadata": {},
   "outputs": [],
   "source": [
    "import pandas as pd\n",
    "\n",
    "df = pd.read_csv(\"shoefly_orders.csv\")"
   ]
  },
  {
   "cell_type": "code",
   "execution_count": 113,
   "metadata": {},
   "outputs": [
    {
     "data": {
      "text/html": [
       "<div>\n",
       "<style scoped>\n",
       "    .dataframe tbody tr th:only-of-type {\n",
       "        vertical-align: middle;\n",
       "    }\n",
       "\n",
       "    .dataframe tbody tr th {\n",
       "        vertical-align: top;\n",
       "    }\n",
       "\n",
       "    .dataframe thead th {\n",
       "        text-align: right;\n",
       "    }\n",
       "</style>\n",
       "<table border=\"1\" class=\"dataframe\">\n",
       "  <thead>\n",
       "    <tr style=\"text-align: right;\">\n",
       "      <th></th>\n",
       "      <th>id</th>\n",
       "      <th>first_name</th>\n",
       "      <th>last_name</th>\n",
       "      <th>email</th>\n",
       "      <th>shoe_type</th>\n",
       "      <th>shoe_material</th>\n",
       "      <th>shoe_color</th>\n",
       "    </tr>\n",
       "  </thead>\n",
       "  <tbody>\n",
       "    <tr>\n",
       "      <th>0</th>\n",
       "      <td>54791</td>\n",
       "      <td>Rebecca</td>\n",
       "      <td>Lindsay</td>\n",
       "      <td>RebeccaLindsay57@hotmail.com</td>\n",
       "      <td>clogs</td>\n",
       "      <td>faux-leather</td>\n",
       "      <td>black</td>\n",
       "    </tr>\n",
       "    <tr>\n",
       "      <th>1</th>\n",
       "      <td>53450</td>\n",
       "      <td>Emily</td>\n",
       "      <td>Joyce</td>\n",
       "      <td>EmilyJoyce25@gmail.com</td>\n",
       "      <td>ballet flats</td>\n",
       "      <td>faux-leather</td>\n",
       "      <td>navy</td>\n",
       "    </tr>\n",
       "    <tr>\n",
       "      <th>2</th>\n",
       "      <td>91987</td>\n",
       "      <td>Joyce</td>\n",
       "      <td>Waller</td>\n",
       "      <td>Joyce.Waller@gmail.com</td>\n",
       "      <td>sandals</td>\n",
       "      <td>fabric</td>\n",
       "      <td>black</td>\n",
       "    </tr>\n",
       "    <tr>\n",
       "      <th>3</th>\n",
       "      <td>14437</td>\n",
       "      <td>Justin</td>\n",
       "      <td>Erickson</td>\n",
       "      <td>Justin.Erickson@outlook.com</td>\n",
       "      <td>clogs</td>\n",
       "      <td>faux-leather</td>\n",
       "      <td>red</td>\n",
       "    </tr>\n",
       "    <tr>\n",
       "      <th>4</th>\n",
       "      <td>79357</td>\n",
       "      <td>Andrew</td>\n",
       "      <td>Banks</td>\n",
       "      <td>AB4318@gmail.com</td>\n",
       "      <td>boots</td>\n",
       "      <td>leather</td>\n",
       "      <td>brown</td>\n",
       "    </tr>\n",
       "    <tr>\n",
       "      <th>5</th>\n",
       "      <td>52386</td>\n",
       "      <td>Julie</td>\n",
       "      <td>Marsh</td>\n",
       "      <td>JulieMarsh59@gmail.com</td>\n",
       "      <td>sandals</td>\n",
       "      <td>fabric</td>\n",
       "      <td>black</td>\n",
       "    </tr>\n",
       "    <tr>\n",
       "      <th>6</th>\n",
       "      <td>20487</td>\n",
       "      <td>Thomas</td>\n",
       "      <td>Jensen</td>\n",
       "      <td>TJ5470@gmail.com</td>\n",
       "      <td>clogs</td>\n",
       "      <td>fabric</td>\n",
       "      <td>navy</td>\n",
       "    </tr>\n",
       "    <tr>\n",
       "      <th>7</th>\n",
       "      <td>76971</td>\n",
       "      <td>Janice</td>\n",
       "      <td>Hicks</td>\n",
       "      <td>Janice.Hicks@gmail.com</td>\n",
       "      <td>clogs</td>\n",
       "      <td>faux-leather</td>\n",
       "      <td>navy</td>\n",
       "    </tr>\n",
       "    <tr>\n",
       "      <th>8</th>\n",
       "      <td>21586</td>\n",
       "      <td>Gabriel</td>\n",
       "      <td>Porter</td>\n",
       "      <td>GabrielPorter24@gmail.com</td>\n",
       "      <td>clogs</td>\n",
       "      <td>leather</td>\n",
       "      <td>brown</td>\n",
       "    </tr>\n",
       "    <tr>\n",
       "      <th>9</th>\n",
       "      <td>62083</td>\n",
       "      <td>Frances</td>\n",
       "      <td>Palmer</td>\n",
       "      <td>FrancesPalmer50@gmail.com</td>\n",
       "      <td>wedges</td>\n",
       "      <td>leather</td>\n",
       "      <td>white</td>\n",
       "    </tr>\n",
       "  </tbody>\n",
       "</table>\n",
       "</div>"
      ],
      "text/plain": [
       "      id first_name last_name                         email     shoe_type  \\\n",
       "0  54791    Rebecca   Lindsay  RebeccaLindsay57@hotmail.com         clogs   \n",
       "1  53450      Emily     Joyce        EmilyJoyce25@gmail.com  ballet flats   \n",
       "2  91987      Joyce    Waller        Joyce.Waller@gmail.com       sandals   \n",
       "3  14437     Justin  Erickson   Justin.Erickson@outlook.com         clogs   \n",
       "4  79357     Andrew     Banks              AB4318@gmail.com         boots   \n",
       "5  52386      Julie     Marsh        JulieMarsh59@gmail.com       sandals   \n",
       "6  20487     Thomas    Jensen              TJ5470@gmail.com         clogs   \n",
       "7  76971     Janice     Hicks        Janice.Hicks@gmail.com         clogs   \n",
       "8  21586    Gabriel    Porter     GabrielPorter24@gmail.com         clogs   \n",
       "9  62083    Frances    Palmer     FrancesPalmer50@gmail.com        wedges   \n",
       "\n",
       "  shoe_material shoe_color  \n",
       "0  faux-leather      black  \n",
       "1  faux-leather       navy  \n",
       "2        fabric      black  \n",
       "3  faux-leather        red  \n",
       "4       leather      brown  \n",
       "5        fabric      black  \n",
       "6        fabric       navy  \n",
       "7  faux-leather       navy  \n",
       "8       leather      brown  \n",
       "9       leather      white  "
      ]
     },
     "execution_count": 113,
     "metadata": {},
     "output_type": "execute_result"
    }
   ],
   "source": [
    "df.head(10)"
   ]
  },
  {
   "cell_type": "markdown",
   "metadata": {},
   "source": [
    "Note que o dataframe tem uma sequência de identificadores, os índices, mesmo tendo um outro identificador, o id, nesse exemplo.\n",
    "\n",
    "Poderíamos setar o índice para ser justamente esse id, com o comando a seguir:"
   ]
  },
  {
   "cell_type": "code",
   "execution_count": 114,
   "metadata": {},
   "outputs": [
    {
     "data": {
      "text/html": [
       "<div>\n",
       "<style scoped>\n",
       "    .dataframe tbody tr th:only-of-type {\n",
       "        vertical-align: middle;\n",
       "    }\n",
       "\n",
       "    .dataframe tbody tr th {\n",
       "        vertical-align: top;\n",
       "    }\n",
       "\n",
       "    .dataframe thead th {\n",
       "        text-align: right;\n",
       "    }\n",
       "</style>\n",
       "<table border=\"1\" class=\"dataframe\">\n",
       "  <thead>\n",
       "    <tr style=\"text-align: right;\">\n",
       "      <th></th>\n",
       "      <th>first_name</th>\n",
       "      <th>last_name</th>\n",
       "      <th>email</th>\n",
       "      <th>shoe_type</th>\n",
       "      <th>shoe_material</th>\n",
       "      <th>shoe_color</th>\n",
       "    </tr>\n",
       "    <tr>\n",
       "      <th>id</th>\n",
       "      <th></th>\n",
       "      <th></th>\n",
       "      <th></th>\n",
       "      <th></th>\n",
       "      <th></th>\n",
       "      <th></th>\n",
       "    </tr>\n",
       "  </thead>\n",
       "  <tbody>\n",
       "    <tr>\n",
       "      <th>54791</th>\n",
       "      <td>Rebecca</td>\n",
       "      <td>Lindsay</td>\n",
       "      <td>RebeccaLindsay57@hotmail.com</td>\n",
       "      <td>clogs</td>\n",
       "      <td>faux-leather</td>\n",
       "      <td>black</td>\n",
       "    </tr>\n",
       "    <tr>\n",
       "      <th>53450</th>\n",
       "      <td>Emily</td>\n",
       "      <td>Joyce</td>\n",
       "      <td>EmilyJoyce25@gmail.com</td>\n",
       "      <td>ballet flats</td>\n",
       "      <td>faux-leather</td>\n",
       "      <td>navy</td>\n",
       "    </tr>\n",
       "    <tr>\n",
       "      <th>91987</th>\n",
       "      <td>Joyce</td>\n",
       "      <td>Waller</td>\n",
       "      <td>Joyce.Waller@gmail.com</td>\n",
       "      <td>sandals</td>\n",
       "      <td>fabric</td>\n",
       "      <td>black</td>\n",
       "    </tr>\n",
       "    <tr>\n",
       "      <th>14437</th>\n",
       "      <td>Justin</td>\n",
       "      <td>Erickson</td>\n",
       "      <td>Justin.Erickson@outlook.com</td>\n",
       "      <td>clogs</td>\n",
       "      <td>faux-leather</td>\n",
       "      <td>red</td>\n",
       "    </tr>\n",
       "    <tr>\n",
       "      <th>79357</th>\n",
       "      <td>Andrew</td>\n",
       "      <td>Banks</td>\n",
       "      <td>AB4318@gmail.com</td>\n",
       "      <td>boots</td>\n",
       "      <td>leather</td>\n",
       "      <td>brown</td>\n",
       "    </tr>\n",
       "    <tr>\n",
       "      <th>52386</th>\n",
       "      <td>Julie</td>\n",
       "      <td>Marsh</td>\n",
       "      <td>JulieMarsh59@gmail.com</td>\n",
       "      <td>sandals</td>\n",
       "      <td>fabric</td>\n",
       "      <td>black</td>\n",
       "    </tr>\n",
       "    <tr>\n",
       "      <th>20487</th>\n",
       "      <td>Thomas</td>\n",
       "      <td>Jensen</td>\n",
       "      <td>TJ5470@gmail.com</td>\n",
       "      <td>clogs</td>\n",
       "      <td>fabric</td>\n",
       "      <td>navy</td>\n",
       "    </tr>\n",
       "    <tr>\n",
       "      <th>76971</th>\n",
       "      <td>Janice</td>\n",
       "      <td>Hicks</td>\n",
       "      <td>Janice.Hicks@gmail.com</td>\n",
       "      <td>clogs</td>\n",
       "      <td>faux-leather</td>\n",
       "      <td>navy</td>\n",
       "    </tr>\n",
       "    <tr>\n",
       "      <th>21586</th>\n",
       "      <td>Gabriel</td>\n",
       "      <td>Porter</td>\n",
       "      <td>GabrielPorter24@gmail.com</td>\n",
       "      <td>clogs</td>\n",
       "      <td>leather</td>\n",
       "      <td>brown</td>\n",
       "    </tr>\n",
       "    <tr>\n",
       "      <th>62083</th>\n",
       "      <td>Frances</td>\n",
       "      <td>Palmer</td>\n",
       "      <td>FrancesPalmer50@gmail.com</td>\n",
       "      <td>wedges</td>\n",
       "      <td>leather</td>\n",
       "      <td>white</td>\n",
       "    </tr>\n",
       "    <tr>\n",
       "      <th>91629</th>\n",
       "      <td>Jessica</td>\n",
       "      <td>Hale</td>\n",
       "      <td>JessicaHale25@gmail.com</td>\n",
       "      <td>clogs</td>\n",
       "      <td>leather</td>\n",
       "      <td>red</td>\n",
       "    </tr>\n",
       "    <tr>\n",
       "      <th>98602</th>\n",
       "      <td>Lawrence</td>\n",
       "      <td>Parker</td>\n",
       "      <td>LawrenceParker44@gmail.com</td>\n",
       "      <td>wedges</td>\n",
       "      <td>fabric</td>\n",
       "      <td>brown</td>\n",
       "    </tr>\n",
       "    <tr>\n",
       "      <th>45832</th>\n",
       "      <td>Susan</td>\n",
       "      <td>Dennis</td>\n",
       "      <td>SusanDennis58@gmail.com</td>\n",
       "      <td>ballet flats</td>\n",
       "      <td>fabric</td>\n",
       "      <td>white</td>\n",
       "    </tr>\n",
       "    <tr>\n",
       "      <th>33862</th>\n",
       "      <td>Diane</td>\n",
       "      <td>Ochoa</td>\n",
       "      <td>DO2680@gmail.com</td>\n",
       "      <td>sandals</td>\n",
       "      <td>fabric</td>\n",
       "      <td>red</td>\n",
       "    </tr>\n",
       "    <tr>\n",
       "      <th>73431</th>\n",
       "      <td>Rebecca</td>\n",
       "      <td>Charles</td>\n",
       "      <td>Rebecca.Charles@gmail.com</td>\n",
       "      <td>boots</td>\n",
       "      <td>faux-leather</td>\n",
       "      <td>white</td>\n",
       "    </tr>\n",
       "    <tr>\n",
       "      <th>93889</th>\n",
       "      <td>Jacqueline</td>\n",
       "      <td>Crane</td>\n",
       "      <td>JC2072@hotmail.com</td>\n",
       "      <td>wedges</td>\n",
       "      <td>fabric</td>\n",
       "      <td>red</td>\n",
       "    </tr>\n",
       "    <tr>\n",
       "      <th>39888</th>\n",
       "      <td>Vincent</td>\n",
       "      <td>Stephenson</td>\n",
       "      <td>VS4753@outlook.com</td>\n",
       "      <td>boots</td>\n",
       "      <td>leather</td>\n",
       "      <td>black</td>\n",
       "    </tr>\n",
       "    <tr>\n",
       "      <th>35961</th>\n",
       "      <td>Roy</td>\n",
       "      <td>Tillman</td>\n",
       "      <td>RoyTillman20@gmail.com</td>\n",
       "      <td>boots</td>\n",
       "      <td>leather</td>\n",
       "      <td>white</td>\n",
       "    </tr>\n",
       "    <tr>\n",
       "      <th>24560</th>\n",
       "      <td>Thomas</td>\n",
       "      <td>Roberson</td>\n",
       "      <td>Thomas.Roberson@gmail.com</td>\n",
       "      <td>wedges</td>\n",
       "      <td>fabric</td>\n",
       "      <td>red</td>\n",
       "    </tr>\n",
       "    <tr>\n",
       "      <th>28559</th>\n",
       "      <td>Angela</td>\n",
       "      <td>Newton</td>\n",
       "      <td>ANewton1977@outlook.com</td>\n",
       "      <td>wedges</td>\n",
       "      <td>fabric</td>\n",
       "      <td>red</td>\n",
       "    </tr>\n",
       "  </tbody>\n",
       "</table>\n",
       "</div>"
      ],
      "text/plain": [
       "       first_name   last_name                         email     shoe_type  \\\n",
       "id                                                                          \n",
       "54791     Rebecca     Lindsay  RebeccaLindsay57@hotmail.com         clogs   \n",
       "53450       Emily       Joyce        EmilyJoyce25@gmail.com  ballet flats   \n",
       "91987       Joyce      Waller        Joyce.Waller@gmail.com       sandals   \n",
       "14437      Justin    Erickson   Justin.Erickson@outlook.com         clogs   \n",
       "79357      Andrew       Banks              AB4318@gmail.com         boots   \n",
       "52386       Julie       Marsh        JulieMarsh59@gmail.com       sandals   \n",
       "20487      Thomas      Jensen              TJ5470@gmail.com         clogs   \n",
       "76971      Janice       Hicks        Janice.Hicks@gmail.com         clogs   \n",
       "21586     Gabriel      Porter     GabrielPorter24@gmail.com         clogs   \n",
       "62083     Frances      Palmer     FrancesPalmer50@gmail.com        wedges   \n",
       "91629     Jessica        Hale       JessicaHale25@gmail.com         clogs   \n",
       "98602    Lawrence      Parker    LawrenceParker44@gmail.com        wedges   \n",
       "45832       Susan      Dennis       SusanDennis58@gmail.com  ballet flats   \n",
       "33862       Diane       Ochoa              DO2680@gmail.com       sandals   \n",
       "73431     Rebecca     Charles     Rebecca.Charles@gmail.com         boots   \n",
       "93889  Jacqueline       Crane            JC2072@hotmail.com        wedges   \n",
       "39888     Vincent  Stephenson            VS4753@outlook.com         boots   \n",
       "35961         Roy     Tillman        RoyTillman20@gmail.com         boots   \n",
       "24560      Thomas    Roberson     Thomas.Roberson@gmail.com        wedges   \n",
       "28559      Angela      Newton       ANewton1977@outlook.com        wedges   \n",
       "\n",
       "      shoe_material shoe_color  \n",
       "id                              \n",
       "54791  faux-leather      black  \n",
       "53450  faux-leather       navy  \n",
       "91987        fabric      black  \n",
       "14437  faux-leather        red  \n",
       "79357       leather      brown  \n",
       "52386        fabric      black  \n",
       "20487        fabric       navy  \n",
       "76971  faux-leather       navy  \n",
       "21586       leather      brown  \n",
       "62083       leather      white  \n",
       "91629       leather        red  \n",
       "98602        fabric      brown  \n",
       "45832        fabric      white  \n",
       "33862        fabric        red  \n",
       "73431  faux-leather      white  \n",
       "93889        fabric        red  \n",
       "39888       leather      black  \n",
       "35961       leather      white  \n",
       "24560        fabric        red  \n",
       "28559        fabric        red  "
      ]
     },
     "execution_count": 114,
     "metadata": {},
     "output_type": "execute_result"
    }
   ],
   "source": [
    "# Solução\n",
    "df.set_index(\"id\")"
   ]
  },
  {
   "cell_type": "markdown",
   "metadata": {},
   "source": [
    "Para retroceder e colocar o índice numérico como estava, basta:\n",
    "\n"
   ]
  },
  {
   "cell_type": "code",
   "execution_count": 115,
   "metadata": {},
   "outputs": [
    {
     "data": {
      "text/html": [
       "<div>\n",
       "<style scoped>\n",
       "    .dataframe tbody tr th:only-of-type {\n",
       "        vertical-align: middle;\n",
       "    }\n",
       "\n",
       "    .dataframe tbody tr th {\n",
       "        vertical-align: top;\n",
       "    }\n",
       "\n",
       "    .dataframe thead th {\n",
       "        text-align: right;\n",
       "    }\n",
       "</style>\n",
       "<table border=\"1\" class=\"dataframe\">\n",
       "  <thead>\n",
       "    <tr style=\"text-align: right;\">\n",
       "      <th></th>\n",
       "      <th>index</th>\n",
       "      <th>id</th>\n",
       "      <th>first_name</th>\n",
       "      <th>last_name</th>\n",
       "      <th>email</th>\n",
       "      <th>shoe_type</th>\n",
       "      <th>shoe_material</th>\n",
       "      <th>shoe_color</th>\n",
       "    </tr>\n",
       "  </thead>\n",
       "  <tbody>\n",
       "    <tr>\n",
       "      <th>0</th>\n",
       "      <td>0</td>\n",
       "      <td>54791</td>\n",
       "      <td>Rebecca</td>\n",
       "      <td>Lindsay</td>\n",
       "      <td>RebeccaLindsay57@hotmail.com</td>\n",
       "      <td>clogs</td>\n",
       "      <td>faux-leather</td>\n",
       "      <td>black</td>\n",
       "    </tr>\n",
       "    <tr>\n",
       "      <th>1</th>\n",
       "      <td>1</td>\n",
       "      <td>53450</td>\n",
       "      <td>Emily</td>\n",
       "      <td>Joyce</td>\n",
       "      <td>EmilyJoyce25@gmail.com</td>\n",
       "      <td>ballet flats</td>\n",
       "      <td>faux-leather</td>\n",
       "      <td>navy</td>\n",
       "    </tr>\n",
       "    <tr>\n",
       "      <th>2</th>\n",
       "      <td>2</td>\n",
       "      <td>91987</td>\n",
       "      <td>Joyce</td>\n",
       "      <td>Waller</td>\n",
       "      <td>Joyce.Waller@gmail.com</td>\n",
       "      <td>sandals</td>\n",
       "      <td>fabric</td>\n",
       "      <td>black</td>\n",
       "    </tr>\n",
       "    <tr>\n",
       "      <th>3</th>\n",
       "      <td>3</td>\n",
       "      <td>14437</td>\n",
       "      <td>Justin</td>\n",
       "      <td>Erickson</td>\n",
       "      <td>Justin.Erickson@outlook.com</td>\n",
       "      <td>clogs</td>\n",
       "      <td>faux-leather</td>\n",
       "      <td>red</td>\n",
       "    </tr>\n",
       "    <tr>\n",
       "      <th>4</th>\n",
       "      <td>4</td>\n",
       "      <td>79357</td>\n",
       "      <td>Andrew</td>\n",
       "      <td>Banks</td>\n",
       "      <td>AB4318@gmail.com</td>\n",
       "      <td>boots</td>\n",
       "      <td>leather</td>\n",
       "      <td>brown</td>\n",
       "    </tr>\n",
       "    <tr>\n",
       "      <th>5</th>\n",
       "      <td>5</td>\n",
       "      <td>52386</td>\n",
       "      <td>Julie</td>\n",
       "      <td>Marsh</td>\n",
       "      <td>JulieMarsh59@gmail.com</td>\n",
       "      <td>sandals</td>\n",
       "      <td>fabric</td>\n",
       "      <td>black</td>\n",
       "    </tr>\n",
       "    <tr>\n",
       "      <th>6</th>\n",
       "      <td>6</td>\n",
       "      <td>20487</td>\n",
       "      <td>Thomas</td>\n",
       "      <td>Jensen</td>\n",
       "      <td>TJ5470@gmail.com</td>\n",
       "      <td>clogs</td>\n",
       "      <td>fabric</td>\n",
       "      <td>navy</td>\n",
       "    </tr>\n",
       "    <tr>\n",
       "      <th>7</th>\n",
       "      <td>7</td>\n",
       "      <td>76971</td>\n",
       "      <td>Janice</td>\n",
       "      <td>Hicks</td>\n",
       "      <td>Janice.Hicks@gmail.com</td>\n",
       "      <td>clogs</td>\n",
       "      <td>faux-leather</td>\n",
       "      <td>navy</td>\n",
       "    </tr>\n",
       "    <tr>\n",
       "      <th>8</th>\n",
       "      <td>8</td>\n",
       "      <td>21586</td>\n",
       "      <td>Gabriel</td>\n",
       "      <td>Porter</td>\n",
       "      <td>GabrielPorter24@gmail.com</td>\n",
       "      <td>clogs</td>\n",
       "      <td>leather</td>\n",
       "      <td>brown</td>\n",
       "    </tr>\n",
       "    <tr>\n",
       "      <th>9</th>\n",
       "      <td>9</td>\n",
       "      <td>62083</td>\n",
       "      <td>Frances</td>\n",
       "      <td>Palmer</td>\n",
       "      <td>FrancesPalmer50@gmail.com</td>\n",
       "      <td>wedges</td>\n",
       "      <td>leather</td>\n",
       "      <td>white</td>\n",
       "    </tr>\n",
       "    <tr>\n",
       "      <th>10</th>\n",
       "      <td>10</td>\n",
       "      <td>91629</td>\n",
       "      <td>Jessica</td>\n",
       "      <td>Hale</td>\n",
       "      <td>JessicaHale25@gmail.com</td>\n",
       "      <td>clogs</td>\n",
       "      <td>leather</td>\n",
       "      <td>red</td>\n",
       "    </tr>\n",
       "    <tr>\n",
       "      <th>11</th>\n",
       "      <td>11</td>\n",
       "      <td>98602</td>\n",
       "      <td>Lawrence</td>\n",
       "      <td>Parker</td>\n",
       "      <td>LawrenceParker44@gmail.com</td>\n",
       "      <td>wedges</td>\n",
       "      <td>fabric</td>\n",
       "      <td>brown</td>\n",
       "    </tr>\n",
       "    <tr>\n",
       "      <th>12</th>\n",
       "      <td>12</td>\n",
       "      <td>45832</td>\n",
       "      <td>Susan</td>\n",
       "      <td>Dennis</td>\n",
       "      <td>SusanDennis58@gmail.com</td>\n",
       "      <td>ballet flats</td>\n",
       "      <td>fabric</td>\n",
       "      <td>white</td>\n",
       "    </tr>\n",
       "    <tr>\n",
       "      <th>13</th>\n",
       "      <td>13</td>\n",
       "      <td>33862</td>\n",
       "      <td>Diane</td>\n",
       "      <td>Ochoa</td>\n",
       "      <td>DO2680@gmail.com</td>\n",
       "      <td>sandals</td>\n",
       "      <td>fabric</td>\n",
       "      <td>red</td>\n",
       "    </tr>\n",
       "    <tr>\n",
       "      <th>14</th>\n",
       "      <td>14</td>\n",
       "      <td>73431</td>\n",
       "      <td>Rebecca</td>\n",
       "      <td>Charles</td>\n",
       "      <td>Rebecca.Charles@gmail.com</td>\n",
       "      <td>boots</td>\n",
       "      <td>faux-leather</td>\n",
       "      <td>white</td>\n",
       "    </tr>\n",
       "    <tr>\n",
       "      <th>15</th>\n",
       "      <td>15</td>\n",
       "      <td>93889</td>\n",
       "      <td>Jacqueline</td>\n",
       "      <td>Crane</td>\n",
       "      <td>JC2072@hotmail.com</td>\n",
       "      <td>wedges</td>\n",
       "      <td>fabric</td>\n",
       "      <td>red</td>\n",
       "    </tr>\n",
       "    <tr>\n",
       "      <th>16</th>\n",
       "      <td>16</td>\n",
       "      <td>39888</td>\n",
       "      <td>Vincent</td>\n",
       "      <td>Stephenson</td>\n",
       "      <td>VS4753@outlook.com</td>\n",
       "      <td>boots</td>\n",
       "      <td>leather</td>\n",
       "      <td>black</td>\n",
       "    </tr>\n",
       "    <tr>\n",
       "      <th>17</th>\n",
       "      <td>17</td>\n",
       "      <td>35961</td>\n",
       "      <td>Roy</td>\n",
       "      <td>Tillman</td>\n",
       "      <td>RoyTillman20@gmail.com</td>\n",
       "      <td>boots</td>\n",
       "      <td>leather</td>\n",
       "      <td>white</td>\n",
       "    </tr>\n",
       "    <tr>\n",
       "      <th>18</th>\n",
       "      <td>18</td>\n",
       "      <td>24560</td>\n",
       "      <td>Thomas</td>\n",
       "      <td>Roberson</td>\n",
       "      <td>Thomas.Roberson@gmail.com</td>\n",
       "      <td>wedges</td>\n",
       "      <td>fabric</td>\n",
       "      <td>red</td>\n",
       "    </tr>\n",
       "    <tr>\n",
       "      <th>19</th>\n",
       "      <td>19</td>\n",
       "      <td>28559</td>\n",
       "      <td>Angela</td>\n",
       "      <td>Newton</td>\n",
       "      <td>ANewton1977@outlook.com</td>\n",
       "      <td>wedges</td>\n",
       "      <td>fabric</td>\n",
       "      <td>red</td>\n",
       "    </tr>\n",
       "  </tbody>\n",
       "</table>\n",
       "</div>"
      ],
      "text/plain": [
       "    index     id  first_name   last_name                         email  \\\n",
       "0       0  54791     Rebecca     Lindsay  RebeccaLindsay57@hotmail.com   \n",
       "1       1  53450       Emily       Joyce        EmilyJoyce25@gmail.com   \n",
       "2       2  91987       Joyce      Waller        Joyce.Waller@gmail.com   \n",
       "3       3  14437      Justin    Erickson   Justin.Erickson@outlook.com   \n",
       "4       4  79357      Andrew       Banks              AB4318@gmail.com   \n",
       "5       5  52386       Julie       Marsh        JulieMarsh59@gmail.com   \n",
       "6       6  20487      Thomas      Jensen              TJ5470@gmail.com   \n",
       "7       7  76971      Janice       Hicks        Janice.Hicks@gmail.com   \n",
       "8       8  21586     Gabriel      Porter     GabrielPorter24@gmail.com   \n",
       "9       9  62083     Frances      Palmer     FrancesPalmer50@gmail.com   \n",
       "10     10  91629     Jessica        Hale       JessicaHale25@gmail.com   \n",
       "11     11  98602    Lawrence      Parker    LawrenceParker44@gmail.com   \n",
       "12     12  45832       Susan      Dennis       SusanDennis58@gmail.com   \n",
       "13     13  33862       Diane       Ochoa              DO2680@gmail.com   \n",
       "14     14  73431     Rebecca     Charles     Rebecca.Charles@gmail.com   \n",
       "15     15  93889  Jacqueline       Crane            JC2072@hotmail.com   \n",
       "16     16  39888     Vincent  Stephenson            VS4753@outlook.com   \n",
       "17     17  35961         Roy     Tillman        RoyTillman20@gmail.com   \n",
       "18     18  24560      Thomas    Roberson     Thomas.Roberson@gmail.com   \n",
       "19     19  28559      Angela      Newton       ANewton1977@outlook.com   \n",
       "\n",
       "       shoe_type shoe_material shoe_color  \n",
       "0          clogs  faux-leather      black  \n",
       "1   ballet flats  faux-leather       navy  \n",
       "2        sandals        fabric      black  \n",
       "3          clogs  faux-leather        red  \n",
       "4          boots       leather      brown  \n",
       "5        sandals        fabric      black  \n",
       "6          clogs        fabric       navy  \n",
       "7          clogs  faux-leather       navy  \n",
       "8          clogs       leather      brown  \n",
       "9         wedges       leather      white  \n",
       "10         clogs       leather        red  \n",
       "11        wedges        fabric      brown  \n",
       "12  ballet flats        fabric      white  \n",
       "13       sandals        fabric        red  \n",
       "14         boots  faux-leather      white  \n",
       "15        wedges        fabric        red  \n",
       "16         boots       leather      black  \n",
       "17         boots       leather      white  \n",
       "18        wedges        fabric        red  \n",
       "19        wedges        fabric        red  "
      ]
     },
     "execution_count": 115,
     "metadata": {},
     "output_type": "execute_result"
    }
   ],
   "source": [
    "# Solução\n",
    "\n",
    "df.reset_index()"
   ]
  },
  {
   "cell_type": "markdown",
   "metadata": {},
   "source": [
    "Veja que surgiu uma coluna extra, caso não precise, você pode acrescentar a flag drop=True (use inplace=True se não quiser retornar para uma nova variável)"
   ]
  },
  {
   "cell_type": "code",
   "execution_count": 116,
   "metadata": {},
   "outputs": [
    {
     "name": "stdout",
     "output_type": "stream",
     "text": [
      "       id  first_name   last_name                         email     shoe_type  \\\n",
      "0   54791     Rebecca     Lindsay  RebeccaLindsay57@hotmail.com         clogs   \n",
      "1   53450       Emily       Joyce        EmilyJoyce25@gmail.com  ballet flats   \n",
      "2   91987       Joyce      Waller        Joyce.Waller@gmail.com       sandals   \n",
      "3   14437      Justin    Erickson   Justin.Erickson@outlook.com         clogs   \n",
      "4   79357      Andrew       Banks              AB4318@gmail.com         boots   \n",
      "5   52386       Julie       Marsh        JulieMarsh59@gmail.com       sandals   \n",
      "6   20487      Thomas      Jensen              TJ5470@gmail.com         clogs   \n",
      "7   76971      Janice       Hicks        Janice.Hicks@gmail.com         clogs   \n",
      "8   21586     Gabriel      Porter     GabrielPorter24@gmail.com         clogs   \n",
      "9   62083     Frances      Palmer     FrancesPalmer50@gmail.com        wedges   \n",
      "10  91629     Jessica        Hale       JessicaHale25@gmail.com         clogs   \n",
      "11  98602    Lawrence      Parker    LawrenceParker44@gmail.com        wedges   \n",
      "12  45832       Susan      Dennis       SusanDennis58@gmail.com  ballet flats   \n",
      "13  33862       Diane       Ochoa              DO2680@gmail.com       sandals   \n",
      "14  73431     Rebecca     Charles     Rebecca.Charles@gmail.com         boots   \n",
      "15  93889  Jacqueline       Crane            JC2072@hotmail.com        wedges   \n",
      "16  39888     Vincent  Stephenson            VS4753@outlook.com         boots   \n",
      "17  35961         Roy     Tillman        RoyTillman20@gmail.com         boots   \n",
      "18  24560      Thomas    Roberson     Thomas.Roberson@gmail.com        wedges   \n",
      "19  28559      Angela      Newton       ANewton1977@outlook.com        wedges   \n",
      "\n",
      "   shoe_material shoe_color  \n",
      "0   faux-leather      black  \n",
      "1   faux-leather       navy  \n",
      "2         fabric      black  \n",
      "3   faux-leather        red  \n",
      "4        leather      brown  \n",
      "5         fabric      black  \n",
      "6         fabric       navy  \n",
      "7   faux-leather       navy  \n",
      "8        leather      brown  \n",
      "9        leather      white  \n",
      "10       leather        red  \n",
      "11        fabric      brown  \n",
      "12        fabric      white  \n",
      "13        fabric        red  \n",
      "14  faux-leather      white  \n",
      "15        fabric        red  \n",
      "16       leather      black  \n",
      "17       leather      white  \n",
      "18        fabric        red  \n",
      "19        fabric        red  \n"
     ]
    }
   ],
   "source": [
    "# Solução\n",
    "\n",
    "df.reset_index(drop=True, inplace=True)\n",
    "print(df)"
   ]
  },
  {
   "cell_type": "code",
   "execution_count": 117,
   "metadata": {},
   "outputs": [],
   "source": [
    "# Solção\n",
    "\n",
    "df.to_excel('shoefly_orders.xlsx', index=False)"
   ]
  },
  {
   "cell_type": "markdown",
   "metadata": {},
   "source": [
    "Se você não sabe o nome das colunas para pesquisar, pode obter com o seguinte comando:\n",
    "\n"
   ]
  },
  {
   "cell_type": "code",
   "execution_count": 118,
   "metadata": {},
   "outputs": [
    {
     "name": "stdout",
     "output_type": "stream",
     "text": [
      "       id  first_name   last_name                         email     shoe_type  \\\n",
      "0   54791     Rebecca     Lindsay  RebeccaLindsay57@hotmail.com         clogs   \n",
      "1   53450       Emily       Joyce        EmilyJoyce25@gmail.com  ballet flats   \n",
      "2   91987       Joyce      Waller        Joyce.Waller@gmail.com       sandals   \n",
      "3   14437      Justin    Erickson   Justin.Erickson@outlook.com         clogs   \n",
      "4   79357      Andrew       Banks              AB4318@gmail.com         boots   \n",
      "5   52386       Julie       Marsh        JulieMarsh59@gmail.com       sandals   \n",
      "6   20487      Thomas      Jensen              TJ5470@gmail.com         clogs   \n",
      "7   76971      Janice       Hicks        Janice.Hicks@gmail.com         clogs   \n",
      "8   21586     Gabriel      Porter     GabrielPorter24@gmail.com         clogs   \n",
      "9   62083     Frances      Palmer     FrancesPalmer50@gmail.com        wedges   \n",
      "10  91629     Jessica        Hale       JessicaHale25@gmail.com         clogs   \n",
      "11  98602    Lawrence      Parker    LawrenceParker44@gmail.com        wedges   \n",
      "12  45832       Susan      Dennis       SusanDennis58@gmail.com  ballet flats   \n",
      "13  33862       Diane       Ochoa              DO2680@gmail.com       sandals   \n",
      "14  73431     Rebecca     Charles     Rebecca.Charles@gmail.com         boots   \n",
      "15  93889  Jacqueline       Crane            JC2072@hotmail.com        wedges   \n",
      "16  39888     Vincent  Stephenson            VS4753@outlook.com         boots   \n",
      "17  35961         Roy     Tillman        RoyTillman20@gmail.com         boots   \n",
      "18  24560      Thomas    Roberson     Thomas.Roberson@gmail.com        wedges   \n",
      "19  28559      Angela      Newton       ANewton1977@outlook.com        wedges   \n",
      "\n",
      "   shoe_material shoe_color  \n",
      "0   faux-leather      black  \n",
      "1   faux-leather       navy  \n",
      "2         fabric      black  \n",
      "3   faux-leather        red  \n",
      "4        leather      brown  \n",
      "5         fabric      black  \n",
      "6         fabric       navy  \n",
      "7   faux-leather       navy  \n",
      "8        leather      brown  \n",
      "9        leather      white  \n",
      "10       leather        red  \n",
      "11        fabric      brown  \n",
      "12        fabric      white  \n",
      "13        fabric        red  \n",
      "14  faux-leather      white  \n",
      "15        fabric        red  \n",
      "16       leather      black  \n",
      "17       leather      white  \n",
      "18        fabric        red  \n",
      "19        fabric        red  \n"
     ]
    }
   ],
   "source": [
    "# Solção\n",
    "\n",
    "df.columns\n",
    "print(df)\n"
   ]
  },
  {
   "cell_type": "markdown",
   "metadata": {},
   "source": [
    "Para obter informações completas e detalhadas (para devs!), basta rodar o seguinte comando:\n",
    "\n"
   ]
  },
  {
   "cell_type": "code",
   "execution_count": 119,
   "metadata": {},
   "outputs": [
    {
     "name": "stdout",
     "output_type": "stream",
     "text": [
      "<class 'pandas.core.frame.DataFrame'>\n",
      "RangeIndex: 20 entries, 0 to 19\n",
      "Data columns (total 7 columns):\n",
      " #   Column         Non-Null Count  Dtype \n",
      "---  ------         --------------  ----- \n",
      " 0   id             20 non-null     int64 \n",
      " 1   first_name     20 non-null     object\n",
      " 2   last_name      20 non-null     object\n",
      " 3   email          20 non-null     object\n",
      " 4   shoe_type      20 non-null     object\n",
      " 5   shoe_material  20 non-null     object\n",
      " 6   shoe_color     20 non-null     object\n",
      "dtypes: int64(1), object(6)\n",
      "memory usage: 1.2+ KB\n"
     ]
    }
   ],
   "source": [
    "# Solução\n",
    "\n",
    "df.info()"
   ]
  },
  {
   "cell_type": "markdown",
   "metadata": {},
   "source": [
    "## 📌 1. Extraindo as primeiras informações\n"
   ]
  },
  {
   "cell_type": "markdown",
   "metadata": {},
   "source": [
    "Se você quiser apenas os e-mails de todos os clientes, basta selecionar pela coluna:\n",
    "\n"
   ]
  },
  {
   "cell_type": "markdown",
   "metadata": {},
   "source": [
    "Ou quem pediu algum calçado branco ou preto?\n",
    "\n"
   ]
  },
  {
   "cell_type": "code",
   "execution_count": null,
   "metadata": {},
   "outputs": [
    {
     "name": "stdout",
     "output_type": "stream",
     "text": [
      "0     RebeccaLindsay57@hotmail.com\n",
      "1           EmilyJoyce25@gmail.com\n",
      "2           Joyce.Waller@gmail.com\n",
      "3      Justin.Erickson@outlook.com\n",
      "4                 AB4318@gmail.com\n",
      "5           JulieMarsh59@gmail.com\n",
      "6                 TJ5470@gmail.com\n",
      "7           Janice.Hicks@gmail.com\n",
      "8        GabrielPorter24@gmail.com\n",
      "9        FrancesPalmer50@gmail.com\n",
      "10         JessicaHale25@gmail.com\n",
      "11      LawrenceParker44@gmail.com\n",
      "12         SusanDennis58@gmail.com\n",
      "13                DO2680@gmail.com\n",
      "14       Rebecca.Charles@gmail.com\n",
      "15              JC2072@hotmail.com\n",
      "16              VS4753@outlook.com\n",
      "17          RoyTillman20@gmail.com\n",
      "18       Thomas.Roberson@gmail.com\n",
      "19         ANewton1977@outlook.com\n",
      "Name: email, dtype: object\n"
     ]
    }
   ],
   "source": [
    "# Solução\n",
    "emails = df.email\n",
    "print(emails)"
   ]
  },
  {
   "cell_type": "markdown",
   "metadata": {},
   "source": [
    "Ou selecionar nome, sobrenome e email, o que faz mais sentido:\n",
    "\n"
   ]
  },
  {
   "cell_type": "code",
   "execution_count": 121,
   "metadata": {},
   "outputs": [
    {
     "name": "stdout",
     "output_type": "stream",
     "text": [
      "    first_name   last_name                         email\n",
      "0      Rebecca     Lindsay  RebeccaLindsay57@hotmail.com\n",
      "1        Emily       Joyce        EmilyJoyce25@gmail.com\n",
      "2        Joyce      Waller        Joyce.Waller@gmail.com\n",
      "3       Justin    Erickson   Justin.Erickson@outlook.com\n",
      "4       Andrew       Banks              AB4318@gmail.com\n",
      "5        Julie       Marsh        JulieMarsh59@gmail.com\n",
      "6       Thomas      Jensen              TJ5470@gmail.com\n",
      "7       Janice       Hicks        Janice.Hicks@gmail.com\n",
      "8      Gabriel      Porter     GabrielPorter24@gmail.com\n",
      "9      Frances      Palmer     FrancesPalmer50@gmail.com\n",
      "10     Jessica        Hale       JessicaHale25@gmail.com\n",
      "11    Lawrence      Parker    LawrenceParker44@gmail.com\n",
      "12       Susan      Dennis       SusanDennis58@gmail.com\n",
      "13       Diane       Ochoa              DO2680@gmail.com\n",
      "14     Rebecca     Charles     Rebecca.Charles@gmail.com\n",
      "15  Jacqueline       Crane            JC2072@hotmail.com\n",
      "16     Vincent  Stephenson            VS4753@outlook.com\n",
      "17         Roy     Tillman        RoyTillman20@gmail.com\n",
      "18      Thomas    Roberson     Thomas.Roberson@gmail.com\n",
      "19      Angela      Newton       ANewton1977@outlook.com\n"
     ]
    }
   ],
   "source": [
    "# Solução\n",
    "\n",
    "lista = df[['first_name', 'last_name', 'email']]\n",
    "print(lista)"
   ]
  },
  {
   "cell_type": "markdown",
   "metadata": {},
   "source": [
    "Podemos selecionar todos que pediram sandálias pretas.\n",
    "\n"
   ]
  },
  {
   "cell_type": "code",
   "execution_count": 122,
   "metadata": {},
   "outputs": [
    {
     "data": {
      "text/html": [
       "<div>\n",
       "<style scoped>\n",
       "    .dataframe tbody tr th:only-of-type {\n",
       "        vertical-align: middle;\n",
       "    }\n",
       "\n",
       "    .dataframe tbody tr th {\n",
       "        vertical-align: top;\n",
       "    }\n",
       "\n",
       "    .dataframe thead th {\n",
       "        text-align: right;\n",
       "    }\n",
       "</style>\n",
       "<table border=\"1\" class=\"dataframe\">\n",
       "  <thead>\n",
       "    <tr style=\"text-align: right;\">\n",
       "      <th></th>\n",
       "      <th>id</th>\n",
       "      <th>first_name</th>\n",
       "      <th>last_name</th>\n",
       "      <th>email</th>\n",
       "      <th>shoe_type</th>\n",
       "      <th>shoe_material</th>\n",
       "      <th>shoe_color</th>\n",
       "    </tr>\n",
       "  </thead>\n",
       "  <tbody>\n",
       "    <tr>\n",
       "      <th>2</th>\n",
       "      <td>91987</td>\n",
       "      <td>Joyce</td>\n",
       "      <td>Waller</td>\n",
       "      <td>Joyce.Waller@gmail.com</td>\n",
       "      <td>sandals</td>\n",
       "      <td>fabric</td>\n",
       "      <td>black</td>\n",
       "    </tr>\n",
       "    <tr>\n",
       "      <th>5</th>\n",
       "      <td>52386</td>\n",
       "      <td>Julie</td>\n",
       "      <td>Marsh</td>\n",
       "      <td>JulieMarsh59@gmail.com</td>\n",
       "      <td>sandals</td>\n",
       "      <td>fabric</td>\n",
       "      <td>black</td>\n",
       "    </tr>\n",
       "  </tbody>\n",
       "</table>\n",
       "</div>"
      ],
      "text/plain": [
       "      id first_name last_name                   email shoe_type shoe_material  \\\n",
       "2  91987      Joyce    Waller  Joyce.Waller@gmail.com   sandals        fabric   \n",
       "5  52386      Julie     Marsh  JulieMarsh59@gmail.com   sandals        fabric   \n",
       "\n",
       "  shoe_color  \n",
       "2      black  \n",
       "5      black  "
      ]
     },
     "execution_count": 122,
     "metadata": {},
     "output_type": "execute_result"
    }
   ],
   "source": [
    "# Solução\n",
    "\n",
    "df[(df.shoe_type == 'sandals') & (df.shoe_color == 'black')]"
   ]
  },
  {
   "cell_type": "markdown",
   "metadata": {},
   "source": [
    "Ou quem pediu algum calçado branco ou preto?\n",
    "\n"
   ]
  },
  {
   "cell_type": "code",
   "execution_count": null,
   "metadata": {},
   "outputs": [
    {
     "data": {
      "text/html": [
       "<div>\n",
       "<style scoped>\n",
       "    .dataframe tbody tr th:only-of-type {\n",
       "        vertical-align: middle;\n",
       "    }\n",
       "\n",
       "    .dataframe tbody tr th {\n",
       "        vertical-align: top;\n",
       "    }\n",
       "\n",
       "    .dataframe thead th {\n",
       "        text-align: right;\n",
       "    }\n",
       "</style>\n",
       "<table border=\"1\" class=\"dataframe\">\n",
       "  <thead>\n",
       "    <tr style=\"text-align: right;\">\n",
       "      <th></th>\n",
       "      <th>id</th>\n",
       "      <th>first_name</th>\n",
       "      <th>last_name</th>\n",
       "      <th>email</th>\n",
       "      <th>shoe_type</th>\n",
       "      <th>shoe_material</th>\n",
       "      <th>shoe_color</th>\n",
       "      <th>shoe_source</th>\n",
       "    </tr>\n",
       "  </thead>\n",
       "  <tbody>\n",
       "    <tr>\n",
       "      <th>0</th>\n",
       "      <td>54791</td>\n",
       "      <td>Rebecca</td>\n",
       "      <td>Lindsay</td>\n",
       "      <td>RebeccaLindsay57@hotmail.com</td>\n",
       "      <td>clogs</td>\n",
       "      <td>faux-leather</td>\n",
       "      <td>black</td>\n",
       "      <td>vegan</td>\n",
       "    </tr>\n",
       "    <tr>\n",
       "      <th>2</th>\n",
       "      <td>91987</td>\n",
       "      <td>Joyce</td>\n",
       "      <td>Waller</td>\n",
       "      <td>Joyce.Waller@gmail.com</td>\n",
       "      <td>sandals</td>\n",
       "      <td>fabric</td>\n",
       "      <td>black</td>\n",
       "      <td>vegan</td>\n",
       "    </tr>\n",
       "    <tr>\n",
       "      <th>5</th>\n",
       "      <td>52386</td>\n",
       "      <td>Julie</td>\n",
       "      <td>Marsh</td>\n",
       "      <td>JulieMarsh59@gmail.com</td>\n",
       "      <td>sandals</td>\n",
       "      <td>fabric</td>\n",
       "      <td>black</td>\n",
       "      <td>vegan</td>\n",
       "    </tr>\n",
       "    <tr>\n",
       "      <th>9</th>\n",
       "      <td>62083</td>\n",
       "      <td>Frances</td>\n",
       "      <td>Palmer</td>\n",
       "      <td>FrancesPalmer50@gmail.com</td>\n",
       "      <td>wedges</td>\n",
       "      <td>leather</td>\n",
       "      <td>white</td>\n",
       "      <td>animal</td>\n",
       "    </tr>\n",
       "    <tr>\n",
       "      <th>12</th>\n",
       "      <td>45832</td>\n",
       "      <td>Susan</td>\n",
       "      <td>Dennis</td>\n",
       "      <td>SusanDennis58@gmail.com</td>\n",
       "      <td>ballet flats</td>\n",
       "      <td>fabric</td>\n",
       "      <td>white</td>\n",
       "      <td>vegan</td>\n",
       "    </tr>\n",
       "    <tr>\n",
       "      <th>14</th>\n",
       "      <td>73431</td>\n",
       "      <td>Rebecca</td>\n",
       "      <td>Charles</td>\n",
       "      <td>Rebecca.Charles@gmail.com</td>\n",
       "      <td>boots</td>\n",
       "      <td>faux-leather</td>\n",
       "      <td>white</td>\n",
       "      <td>vegan</td>\n",
       "    </tr>\n",
       "    <tr>\n",
       "      <th>16</th>\n",
       "      <td>39888</td>\n",
       "      <td>Vincent</td>\n",
       "      <td>Stephenson</td>\n",
       "      <td>VS4753@outlook.com</td>\n",
       "      <td>boots</td>\n",
       "      <td>leather</td>\n",
       "      <td>black</td>\n",
       "      <td>animal</td>\n",
       "    </tr>\n",
       "    <tr>\n",
       "      <th>17</th>\n",
       "      <td>35961</td>\n",
       "      <td>Roy</td>\n",
       "      <td>Tillman</td>\n",
       "      <td>RoyTillman20@gmail.com</td>\n",
       "      <td>boots</td>\n",
       "      <td>leather</td>\n",
       "      <td>white</td>\n",
       "      <td>animal</td>\n",
       "    </tr>\n",
       "  </tbody>\n",
       "</table>\n",
       "</div>"
      ],
      "text/plain": [
       "       id first_name   last_name                         email     shoe_type  \\\n",
       "0   54791    Rebecca     Lindsay  RebeccaLindsay57@hotmail.com         clogs   \n",
       "2   91987      Joyce      Waller        Joyce.Waller@gmail.com       sandals   \n",
       "5   52386      Julie       Marsh        JulieMarsh59@gmail.com       sandals   \n",
       "9   62083    Frances      Palmer     FrancesPalmer50@gmail.com        wedges   \n",
       "12  45832      Susan      Dennis       SusanDennis58@gmail.com  ballet flats   \n",
       "14  73431    Rebecca     Charles     Rebecca.Charles@gmail.com         boots   \n",
       "16  39888    Vincent  Stephenson            VS4753@outlook.com         boots   \n",
       "17  35961        Roy     Tillman        RoyTillman20@gmail.com         boots   \n",
       "\n",
       "   shoe_material shoe_color shoe_source  \n",
       "0   faux-leather      black       vegan  \n",
       "2         fabric      black       vegan  \n",
       "5         fabric      black       vegan  \n",
       "9        leather      white      animal  \n",
       "12        fabric      white       vegan  \n",
       "14  faux-leather      white       vegan  \n",
       "16       leather      black      animal  \n",
       "17       leather      white      animal  "
      ]
     },
     "execution_count": 133,
     "metadata": {},
     "output_type": "execute_result"
    }
   ],
   "source": [
    "# Solução\n",
    "\n",
    "#df[(df.shoe_color == 'white') | (df.shoe_color == 'black')]\n",
    "df[df.shoe_color.isin(['white', 'black'])] "
   ]
  },
  {
   "cell_type": "markdown",
   "metadata": {},
   "source": [
    "Vamos ver o que Susan Dennis pediu.\n",
    "\n"
   ]
  },
  {
   "cell_type": "code",
   "execution_count": 138,
   "metadata": {},
   "outputs": [
    {
     "data": {
      "text/html": [
       "<div>\n",
       "<style scoped>\n",
       "    .dataframe tbody tr th:only-of-type {\n",
       "        vertical-align: middle;\n",
       "    }\n",
       "\n",
       "    .dataframe tbody tr th {\n",
       "        vertical-align: top;\n",
       "    }\n",
       "\n",
       "    .dataframe thead th {\n",
       "        text-align: right;\n",
       "    }\n",
       "</style>\n",
       "<table border=\"1\" class=\"dataframe\">\n",
       "  <thead>\n",
       "    <tr style=\"text-align: right;\">\n",
       "      <th></th>\n",
       "      <th>id</th>\n",
       "      <th>first_name</th>\n",
       "      <th>last_name</th>\n",
       "      <th>email</th>\n",
       "      <th>shoe_type</th>\n",
       "      <th>shoe_material</th>\n",
       "      <th>shoe_color</th>\n",
       "      <th>shoe_source</th>\n",
       "    </tr>\n",
       "  </thead>\n",
       "  <tbody>\n",
       "    <tr>\n",
       "      <th>12</th>\n",
       "      <td>45832</td>\n",
       "      <td>Susan</td>\n",
       "      <td>Dennis</td>\n",
       "      <td>SusanDennis58@gmail.com</td>\n",
       "      <td>ballet flats</td>\n",
       "      <td>fabric</td>\n",
       "      <td>white</td>\n",
       "      <td>vegan</td>\n",
       "    </tr>\n",
       "  </tbody>\n",
       "</table>\n",
       "</div>"
      ],
      "text/plain": [
       "       id first_name last_name                    email     shoe_type  \\\n",
       "12  45832      Susan    Dennis  SusanDennis58@gmail.com  ballet flats   \n",
       "\n",
       "   shoe_material shoe_color shoe_source  \n",
       "12        fabric      white       vegan  "
      ]
     },
     "execution_count": 138,
     "metadata": {},
     "output_type": "execute_result"
    }
   ],
   "source": [
    "# Solução\n",
    "\n",
    "df[(df.first_name == 'Susan') & (df.last_name == 'Dennis')]\n",
    " \n"
   ]
  },
  {
   "cell_type": "markdown",
   "metadata": {},
   "source": [
    "Ainda é possível acessar diretamente usando loc ou iloc:\n",
    "\n"
   ]
  },
  {
   "cell_type": "code",
   "execution_count": null,
   "metadata": {},
   "outputs": [
    {
     "data": {
      "text/html": [
       "<div>\n",
       "<style scoped>\n",
       "    .dataframe tbody tr th:only-of-type {\n",
       "        vertical-align: middle;\n",
       "    }\n",
       "\n",
       "    .dataframe tbody tr th {\n",
       "        vertical-align: top;\n",
       "    }\n",
       "\n",
       "    .dataframe thead th {\n",
       "        text-align: right;\n",
       "    }\n",
       "</style>\n",
       "<table border=\"1\" class=\"dataframe\">\n",
       "  <thead>\n",
       "    <tr style=\"text-align: right;\">\n",
       "      <th></th>\n",
       "      <th>id</th>\n",
       "      <th>shoe_material</th>\n",
       "    </tr>\n",
       "  </thead>\n",
       "  <tbody>\n",
       "    <tr>\n",
       "      <th>2</th>\n",
       "      <td>91987</td>\n",
       "      <td>fabric</td>\n",
       "    </tr>\n",
       "    <tr>\n",
       "      <th>5</th>\n",
       "      <td>52386</td>\n",
       "      <td>fabric</td>\n",
       "    </tr>\n",
       "  </tbody>\n",
       "</table>\n",
       "</div>"
      ],
      "text/plain": [
       "      id shoe_material\n",
       "2  91987        fabric\n",
       "5  52386        fabric"
      ]
     },
     "execution_count": 128,
     "metadata": {},
     "output_type": "execute_result"
    }
   ],
   "source": [
    "# Soluções\n",
    "\n",
    "df.loc[(df.shoe_type == 'sandals') & (df.shoe_color == 'black'), ['id', 'shoe_material' ]] # LOC - FAZ SELEÇÕES DE LINHAS E COLUNAS EM UM DATAFRAME\n"
   ]
  },
  {
   "cell_type": "code",
   "execution_count": null,
   "metadata": {},
   "outputs": [
    {
     "name": "stdout",
     "output_type": "stream",
     "text": [
      "0    Lindsay\n",
      "2     Waller\n",
      "5      Marsh\n",
      "Name: last_name, dtype: object\n"
     ]
    }
   ],
   "source": [
    "# Soluções\n",
    "\n",
    "df.iloc[1,4] \n",
    "print(df.iloc[[0,2,5], 2])"
   ]
  },
  {
   "cell_type": "markdown",
   "metadata": {},
   "source": [
    "Para criar novas colunas com valores baseados em condições usando função lambda, vamos ao seguinte exemplo: Muitos dos nossos clientes querem comprar sapatos veganos (sapatos feitos de materiais que não vêm de animais). Adicione uma nova coluna chamada shoe_source, que é vegan se os materiais não forem leather e animal caso contrário."
   ]
  },
  {
   "cell_type": "code",
   "execution_count": null,
   "metadata": {},
   "outputs": [
    {
     "data": {
      "text/html": [
       "<div>\n",
       "<style scoped>\n",
       "    .dataframe tbody tr th:only-of-type {\n",
       "        vertical-align: middle;\n",
       "    }\n",
       "\n",
       "    .dataframe tbody tr th {\n",
       "        vertical-align: top;\n",
       "    }\n",
       "\n",
       "    .dataframe thead th {\n",
       "        text-align: right;\n",
       "    }\n",
       "</style>\n",
       "<table border=\"1\" class=\"dataframe\">\n",
       "  <thead>\n",
       "    <tr style=\"text-align: right;\">\n",
       "      <th></th>\n",
       "      <th>id</th>\n",
       "      <th>first_name</th>\n",
       "      <th>last_name</th>\n",
       "      <th>email</th>\n",
       "      <th>shoe_type</th>\n",
       "      <th>shoe_material</th>\n",
       "      <th>shoe_color</th>\n",
       "      <th>shoe_source</th>\n",
       "    </tr>\n",
       "  </thead>\n",
       "  <tbody>\n",
       "    <tr>\n",
       "      <th>0</th>\n",
       "      <td>54791</td>\n",
       "      <td>Rebecca</td>\n",
       "      <td>Lindsay</td>\n",
       "      <td>RebeccaLindsay57@hotmail.com</td>\n",
       "      <td>clogs</td>\n",
       "      <td>faux-leather</td>\n",
       "      <td>black</td>\n",
       "      <td>vegan</td>\n",
       "    </tr>\n",
       "    <tr>\n",
       "      <th>1</th>\n",
       "      <td>53450</td>\n",
       "      <td>Emily</td>\n",
       "      <td>Joyce</td>\n",
       "      <td>EmilyJoyce25@gmail.com</td>\n",
       "      <td>ballet flats</td>\n",
       "      <td>faux-leather</td>\n",
       "      <td>navy</td>\n",
       "      <td>vegan</td>\n",
       "    </tr>\n",
       "    <tr>\n",
       "      <th>2</th>\n",
       "      <td>91987</td>\n",
       "      <td>Joyce</td>\n",
       "      <td>Waller</td>\n",
       "      <td>Joyce.Waller@gmail.com</td>\n",
       "      <td>sandals</td>\n",
       "      <td>fabric</td>\n",
       "      <td>black</td>\n",
       "      <td>vegan</td>\n",
       "    </tr>\n",
       "    <tr>\n",
       "      <th>3</th>\n",
       "      <td>14437</td>\n",
       "      <td>Justin</td>\n",
       "      <td>Erickson</td>\n",
       "      <td>Justin.Erickson@outlook.com</td>\n",
       "      <td>clogs</td>\n",
       "      <td>faux-leather</td>\n",
       "      <td>red</td>\n",
       "      <td>vegan</td>\n",
       "    </tr>\n",
       "    <tr>\n",
       "      <th>4</th>\n",
       "      <td>79357</td>\n",
       "      <td>Andrew</td>\n",
       "      <td>Banks</td>\n",
       "      <td>AB4318@gmail.com</td>\n",
       "      <td>boots</td>\n",
       "      <td>leather</td>\n",
       "      <td>brown</td>\n",
       "      <td>animal</td>\n",
       "    </tr>\n",
       "  </tbody>\n",
       "</table>\n",
       "</div>"
      ],
      "text/plain": [
       "      id first_name last_name                         email     shoe_type  \\\n",
       "0  54791    Rebecca   Lindsay  RebeccaLindsay57@hotmail.com         clogs   \n",
       "1  53450      Emily     Joyce        EmilyJoyce25@gmail.com  ballet flats   \n",
       "2  91987      Joyce    Waller        Joyce.Waller@gmail.com       sandals   \n",
       "3  14437     Justin  Erickson   Justin.Erickson@outlook.com         clogs   \n",
       "4  79357     Andrew     Banks              AB4318@gmail.com         boots   \n",
       "\n",
       "  shoe_material shoe_color shoe_source  \n",
       "0  faux-leather      black       vegan  \n",
       "1  faux-leather       navy       vegan  \n",
       "2        fabric      black       vegan  \n",
       "3  faux-leather        red       vegan  \n",
       "4       leather      brown      animal  "
      ]
     },
     "execution_count": 130,
     "metadata": {},
     "output_type": "execute_result"
    }
   ],
   "source": [
    "# Soluções\n",
    "\n",
    "df['shoe_source'] = df.shoe_material.apply(lambda x: 'vegan' if x != 'leather' else 'animal')\n",
    "df.head()"
   ]
  },
  {
   "cell_type": "code",
   "execution_count": null,
   "metadata": {},
   "outputs": [
    {
     "name": "stdout",
     "output_type": "stream",
     "text": [
      "         id diagnosis  radius_mean  texture_mean  perimeter_mean  area_mean  \\\n",
      "0    842302         M        17.99         10.38          122.80     1001.0   \n",
      "1    842517         M        20.57         17.77          132.90     1326.0   \n",
      "2  84300903         M        19.69         21.25          130.00     1203.0   \n",
      "3  84348301         M        11.42         20.38           77.58      386.1   \n",
      "4  84358402         M        20.29         14.34          135.10     1297.0   \n",
      "5    843786         M        12.45         15.70           82.57      477.1   \n",
      "6    844359         M        18.25         19.98          119.60     1040.0   \n",
      "7  84458202         M        13.71         20.83           90.20      577.9   \n",
      "8    844981         M        13.00         21.82           87.50      519.8   \n",
      "9  84501001         M        12.46         24.04           83.97      475.9   \n",
      "\n",
      "   smoothness_mean  compactness_mean  concavity_mean  concave points_mean  \\\n",
      "0          0.11840           0.27760         0.30010              0.14710   \n",
      "1          0.08474           0.07864         0.08690              0.07017   \n",
      "2          0.10960           0.15990         0.19740              0.12790   \n",
      "3          0.14250           0.28390         0.24140              0.10520   \n",
      "4          0.10030           0.13280         0.19800              0.10430   \n",
      "5          0.12780           0.17000         0.15780              0.08089   \n",
      "6          0.09463           0.10900         0.11270              0.07400   \n",
      "7          0.11890           0.16450         0.09366              0.05985   \n",
      "8          0.12730           0.19320         0.18590              0.09353   \n",
      "9          0.11860           0.23960         0.22730              0.08543   \n",
      "\n",
      "   ...  texture_worst  perimeter_worst  area_worst  smoothness_worst  \\\n",
      "0  ...          17.33           184.60      2019.0            0.1622   \n",
      "1  ...          23.41           158.80      1956.0            0.1238   \n",
      "2  ...          25.53           152.50      1709.0            0.1444   \n",
      "3  ...          26.50            98.87       567.7            0.2098   \n",
      "4  ...          16.67           152.20      1575.0            0.1374   \n",
      "5  ...          23.75           103.40       741.6            0.1791   \n",
      "6  ...          27.66           153.20      1606.0            0.1442   \n",
      "7  ...          28.14           110.60       897.0            0.1654   \n",
      "8  ...          30.73           106.20       739.3            0.1703   \n",
      "9  ...          40.68            97.65       711.4            0.1853   \n",
      "\n",
      "   compactness_worst  concavity_worst  concave points_worst  symmetry_worst  \\\n",
      "0             0.6656           0.7119                0.2654          0.4601   \n",
      "1             0.1866           0.2416                0.1860          0.2750   \n",
      "2             0.4245           0.4504                0.2430          0.3613   \n",
      "3             0.8663           0.6869                0.2575          0.6638   \n",
      "4             0.2050           0.4000                0.1625          0.2364   \n",
      "5             0.5249           0.5355                0.1741          0.3985   \n",
      "6             0.2576           0.3784                0.1932          0.3063   \n",
      "7             0.3682           0.2678                0.1556          0.3196   \n",
      "8             0.5401           0.5390                0.2060          0.4378   \n",
      "9             1.0580           1.1050                0.2210          0.4366   \n",
      "\n",
      "   fractal_dimension_worst  Unnamed: 32  \n",
      "0                  0.11890          NaN  \n",
      "1                  0.08902          NaN  \n",
      "2                  0.08758          NaN  \n",
      "3                  0.17300          NaN  \n",
      "4                  0.07678          NaN  \n",
      "5                  0.12440          NaN  \n",
      "6                  0.08368          NaN  \n",
      "7                  0.11510          NaN  \n",
      "8                  0.10720          NaN  \n",
      "9                  0.20750          NaN  \n",
      "\n",
      "[10 rows x 33 columns]\n"
     ]
    }
   ],
   "source": [
    "# Carregar arquivo em CSV\n",
    "df = pd.read_csv(\"Cancer_Data.csv\") # df = pd.read_excel(\"arquivo.xlsx\")\n",
    "# Visualizar as 10 primeiras linhas\n",
    "print(df.head(10))\n",
    "# Visualizar as 5 últimas linhas\n",
    "print(df.tail())\n",
    "# Visualizar amostra aleatória de 5 linhas\n",
    "print(df.sample(5))\n",
    "# Verificar a estrutura da base de dados\n",
    "print(df.info())\n",
    "# Mostrar estatísticas descritivas das colunas numéricas\n",
    "print(df.describe())\n",
    "# Mostrar estatísticas de colunas categóricas\n",
    "print(df.describe(include=\"object\"))\n",
    "# Verificar os tipos de dados de cada coluna\n",
    "print(df.dtypes)\n",
    "# Verificar o número de linhas e colunas\n",
    "print(df.shape)\n",
    "# Listar os nomes das colunas\n",
    "print(df.columns)"
   ]
  },
  {
   "cell_type": "markdown",
   "metadata": {},
   "source": [
    "## 📌 2. Tratamento de Valores Nulos"
   ]
  },
  {
   "cell_type": "code",
   "execution_count": null,
   "metadata": {},
   "outputs": [
    {
     "name": "stdout",
     "output_type": "stream",
     "text": [
      "id                           0\n",
      "diagnosis                    0\n",
      "radius_mean                  0\n",
      "texture_mean                 0\n",
      "perimeter_mean               0\n",
      "area_mean                    0\n",
      "smoothness_mean              0\n",
      "compactness_mean             0\n",
      "concavity_mean               0\n",
      "concave points_mean          0\n",
      "symmetry_mean                0\n",
      "fractal_dimension_mean       0\n",
      "radius_se                    0\n",
      "texture_se                   0\n",
      "perimeter_se                 0\n",
      "area_se                      0\n",
      "smoothness_se                0\n",
      "compactness_se               0\n",
      "concavity_se                 0\n",
      "concave points_se            0\n",
      "symmetry_se                  0\n",
      "fractal_dimension_se         0\n",
      "radius_worst                 0\n",
      "texture_worst                0\n",
      "perimeter_worst              0\n",
      "area_worst                   0\n",
      "smoothness_worst             0\n",
      "compactness_worst            0\n",
      "concavity_worst              0\n",
      "concave points_worst         0\n",
      "symmetry_worst               0\n",
      "fractal_dimension_worst      0\n",
      "Unnamed: 32                569\n",
      "dtype: int64\n"
     ]
    }
   ],
   "source": [
    "# Verificar valores nulos\n",
    "\n",
    "import pandas as pd\n",
    "df = pd.read_csv(\"Cancer_Data.csv\") # df = pd.read_xlxs(\"Cancer_Data.csv\")\n",
    "print(df.isnull().sum())\n",
    "\n",
    "# Remover linhas com valores nulos\n",
    "df = df.dropna()\n",
    "\n",
    "# Remover colunas com muitos valores nulos\n",
    "df = df.dropna(axis=1)"
   ]
  },
  {
   "cell_type": "code",
   "execution_count": null,
   "metadata": {},
   "outputs": [],
   "source": [
    "# Preencher valores nulos com um valor específico\n",
    "df.fillna({\"coluna1\": \"valor_padrão\", \"coluna2\": 0}, inplace=True)\n",
    "\n",
    "# Preencher valores nulos com a média da coluna\n",
    "df[\"coluna_numérica\"] = df[\"coluna_numérica\"].fillna(df[\"coluna_numérica\"].mean())\n",
    "\n",
    "# Preencher valores nulos com a mediana\n",
    "df[\"coluna_numérica\"] = df[\"coluna_numérica\"].fillna(df[\"coluna_numérica\"].median())\n",
    "\n",
    "# Preencher valores nulos com a moda (valor mais frequente)\n",
    "df[\"coluna_texto\"] = df[\"coluna_texto\"].fillna(df[\"coluna_texto\"].mode()[0])"
   ]
  },
  {
   "cell_type": "markdown",
   "metadata": {},
   "source": [
    "## 📌 3. Remoção de Duplicatas"
   ]
  },
  {
   "cell_type": "code",
   "execution_count": null,
   "metadata": {},
   "outputs": [],
   "source": [
    "# Verificar duplicatas\n",
    "print(df.duplicated().sum())\n",
    "\n",
    "# Remover duplicatas (mantendo apenas a primeira ocorrência)\n",
    "df = df.drop_duplicates()\n",
    "\n",
    "# Remover duplicatas baseadas em uma ou mais colunas específicas\n",
    "df = df.drop_duplicates(subset=[\"coluna1\", \"coluna2\"])"
   ]
  },
  {
   "cell_type": "markdown",
   "metadata": {},
   "source": [
    "## 📌 4. Manipulação de Tipos de Dados\n"
   ]
  },
  {
   "cell_type": "code",
   "execution_count": null,
   "metadata": {},
   "outputs": [],
   "source": [
    "# Converter para número (se houver erro, substituir por NaN)\n",
    "df[\"coluna_numérica\"] = pd.to_numeric(df[\"coluna_numérica\"], errors=\"coerce\")\n",
    "\n",
    "# Converter para string\n",
    "df[\"coluna_texto\"] = df[\"coluna_texto\"].astype(str)\n",
    "\n",
    "# Converter para categoria (melhora desempenho)\n",
    "df[\"coluna_categorica\"] = df[\"coluna_categorica\"].astype(\"category\")\n",
    "\n",
    "# Converter para data\n",
    "df[\"coluna_data\"] = pd.to_datetime(df[\"coluna_data\"], errors=\"coerce\")\n",
    "\n",
    "# Extrair ano, mês e dia de uma data\n",
    "df[\"ano\"] = df[\"coluna_data\"].dt.year\n",
    "df[\"mes\"] = df[\"coluna_data\"].dt.month\n",
    "df[\"dia\"] = df[\"coluna_data\"].dt.day"
   ]
  },
  {
   "cell_type": "markdown",
   "metadata": {},
   "source": [
    "## 📌 5. Manipulação de Strings"
   ]
  },
  {
   "cell_type": "code",
   "execution_count": null,
   "metadata": {},
   "outputs": [],
   "source": [
    "# Remover espaços em branco extras\n",
    "df[\"coluna_texto\"] = df[\"coluna_texto\"].str.strip()\n",
    "\n",
    "# Converter para minúsculas\n",
    "df[\"coluna_texto\"] = df[\"coluna_texto\"].str.lower()\n",
    "\n",
    "# Converter para maiúsculas\n",
    "df[\"coluna_texto\"] = df[\"coluna_texto\"].str.upper()\n",
    "\n",
    "# Remover caracteres especiais\n",
    "df[\"coluna_texto\"] = df[\"coluna_texto\"].str.replace(r\"[^a-zA-Z0-9 ]\", \"\", regex=True)\n",
    "\n",
    "# Substituir palavras específicas\n",
    "df[\"coluna_texto\"] = df[\"coluna_texto\"].str.replace(\"antiga\", \"nova\")\n"
   ]
  },
  {
   "cell_type": "markdown",
   "metadata": {},
   "source": [
    "## 📌 6. Filtragem de Dados"
   ]
  },
  {
   "cell_type": "code",
   "execution_count": null,
   "metadata": {},
   "outputs": [],
   "source": [
    "# Filtrar valores maiores que 10\n",
    "df_filtrado = df[df[\"coluna_numérica\"] > 10]\n",
    "\n",
    "# Filtrar valores dentro de um intervalo\n",
    "df_filtrado = df[(df[\"coluna_numérica\"] > 10) & (df[\"coluna_numérica\"] < 50)]\n",
    "\n",
    "# Filtrar registros que contêm uma palavra específica\n",
    "df_filtrado = df[df[\"coluna_texto\"].str.contains(\"palavra-chave\", na=False)]\n",
    "\n",
    "# Filtrar valores nulos\n",
    "df_filtrado = df[df[\"coluna_texto\"].isnull()]\n"
   ]
  },
  {
   "cell_type": "markdown",
   "metadata": {},
   "source": [
    "## 📌 7. Alteração e Criação de Colunas\n",
    "\n"
   ]
  },
  {
   "cell_type": "code",
   "execution_count": null,
   "metadata": {},
   "outputs": [],
   "source": [
    "# Criar uma nova coluna baseada em outra\n",
    "df[\"nova_coluna\"] = df[\"coluna_existente\"] * 2\n",
    "\n",
    "# Criar uma coluna com base em uma condição\n",
    "df[\"categoria\"] = df[\"coluna_numérica\"].apply(lambda x: \"Alto\" if x > 100 else \"Baixo\")\n",
    "\n",
    "# Criar uma coluna somando valores de outras colunas\n",
    "df[\"total\"] = df[\"coluna1\"] + df[\"coluna2\"]\n"
   ]
  },
  {
   "cell_type": "markdown",
   "metadata": {},
   "source": [
    "## 📌 8. Ordenação de Dados"
   ]
  },
  {
   "cell_type": "code",
   "execution_count": null,
   "metadata": {},
   "outputs": [],
   "source": [
    "# Ordenar por uma coluna\n",
    "df = df.sort_values(by=\"coluna_numérica\")\n",
    "\n",
    "# Ordenar em ordem decrescente\n",
    "df = df.sort_values(by=\"coluna_numérica\", ascending=False)\n"
   ]
  },
  {
   "cell_type": "markdown",
   "metadata": {},
   "source": [
    "## 📌 9. Renomeação de Colunas\n",
    "\n"
   ]
  },
  {
   "cell_type": "code",
   "execution_count": null,
   "metadata": {},
   "outputs": [],
   "source": [
    "# Renomear uma coluna\n",
    "df = df.rename(columns={\"coluna_antiga\": \"coluna_nova\"})\n",
    "\n",
    "# Renomear várias colunas\n",
    "df = df.rename(columns={\"coluna1\": \"novo_nome1\", \"coluna2\": \"novo_nome2\"})\n"
   ]
  },
  {
   "cell_type": "markdown",
   "metadata": {},
   "source": [
    "## 📌 10. Reordenando Colunas"
   ]
  },
  {
   "cell_type": "code",
   "execution_count": null,
   "metadata": {},
   "outputs": [],
   "source": [
    "# Alterar a ordem das colunas\n",
    "df = df[[\"coluna2\", \"coluna1\", \"coluna3\"]]\n"
   ]
  },
  {
   "cell_type": "markdown",
   "metadata": {},
   "source": [
    "## 📌 11. Exportação dos Dados\n"
   ]
  },
  {
   "cell_type": "code",
   "execution_count": null,
   "metadata": {},
   "outputs": [],
   "source": [
    "# Salvar em CSV\n",
    "df.to_csv(\"dados_tratados.csv\", index=False, encoding=\"utf-8\")\n",
    "\n",
    "# Salvar em Excel\n",
    "df.to_excel(\"dados_tratados.xlsx\", index=False)\n",
    "\n",
    "# Salvar em JSON\n",
    "df.to_json(\"dados_tratados.json\", orient=\"records\")\n"
   ]
  },
  {
   "cell_type": "markdown",
   "metadata": {},
   "source": [
    "## 📌 12. Análise Estatística Básica\n"
   ]
  },
  {
   "cell_type": "code",
   "execution_count": null,
   "metadata": {},
   "outputs": [],
   "source": [
    "# Contagem de valores únicos em uma coluna\n",
    "print(df[\"coluna_categorica\"].value_counts())\n",
    "\n",
    "# Média de uma coluna numérica\n",
    "print(df[\"coluna_numérica\"].mean())\n",
    "\n",
    "# Mediana\n",
    "print(df[\"coluna_numérica\"].median())\n",
    "\n",
    "# Moda\n",
    "print(df[\"coluna_numérica\"].mode())\n",
    "\n",
    "# Desvio padrão\n",
    "print(df[\"coluna_numérica\"].std())\n",
    "\n",
    "# Correlação entre colunas numéricas\n",
    "print(df.corr())\n"
   ]
  }
 ],
 "metadata": {
  "kernelspec": {
   "display_name": "Python 3",
   "language": "python",
   "name": "python3"
  },
  "language_info": {
   "codemirror_mode": {
    "name": "ipython",
    "version": 3
   },
   "file_extension": ".py",
   "mimetype": "text/x-python",
   "name": "python",
   "nbconvert_exporter": "python",
   "pygments_lexer": "ipython3",
   "version": "3.13.1"
  }
 },
 "nbformat": 4,
 "nbformat_minor": 2
}
