{
 "cells": [
  {
   "cell_type": "markdown",
   "metadata": {},
   "source": [
    "## Aula de revisão + GITHUB\n",
    "\n"
   ]
  },
  {
   "cell_type": "markdown",
   "metadata": {},
   "source": [
    "## Fluxos Sequeciais\n"
   ]
  },
  {
   "cell_type": "markdown",
   "metadata": {},
   "source": [
    "Faça um Programa que pergunte quanto você ganha por hora e o número de horas trabalhadas no mês. Calcule e mostre o total do seu salário no referido mês, sabendo-se que são descontados 11% para o imposto de renda, 8% para o INSS e 5% para o sindicato, faça um programa que nos dê: salário bruto. quanto pagou ao INSS. quanto pagou ao sindicato. o salário liquido. calcule os descontos e o salário líquido, conforme a tabela a baixo:\n",
    "\n",
    "- Salário Bruto\n",
    "- IR (11%)\n",
    "- INSS(8%)\n",
    "- SINDICATO (5%)"
   ]
  },
  {
   "cell_type": "code",
   "execution_count": 4,
   "metadata": {},
   "outputs": [
    {
     "name": "stdout",
     "output_type": "stream",
     "text": [
      "- salário bruto: R$2640.00\n",
      "- IR (11%): R$290.40\n",
      "- INSS (8%): R$211.20\n",
      "- Sindicato (5%): R$132.00\n",
      "= Salário Liquido: R$2006.40\n"
     ]
    }
   ],
   "source": [
    "# Solução\n",
    "\n",
    "# Pedir ao usuario o seu valor por hora\n",
    "\n",
    "valor_hora = float(input(\"Digite o seu valor por hora: \"))\n",
    "\n",
    "# Pedir ao usuario o numero de horas trabalhadas no mês\n",
    "\n",
    "horas_trabalhadas = float(input(\"Digite o numero de horas trabalhadas no mês: \"))\n",
    "\n",
    "# Multiplicar os dois valores anteriores e guardo numa variavel\n",
    "\n",
    "salario_bruto = valor_hora * horas_trabalhadas\n",
    "\n",
    "# Para saber o que pagar de IR, multiplico o salario bruto vezes 11% e guardo numa variavel\n",
    "\n",
    "valor_ir = salario_bruto * 0.11\n",
    "\n",
    "# Para saber o que pagar de INSS, multiplico o salario bruto vezes 8% guardo numa variavel\n",
    "\n",
    "valor_inss = salario_bruto * 0.08\n",
    "\n",
    "# Para saber o que pagar de SINDICATO, multiplico o salario bruto vezes 5% guardo numa variavel\n",
    "\n",
    "valor_sindicato = salario_bruto * 0.05\n",
    "\n",
    "# Imprimo a tabela conforme solicitado\n",
    "\n",
    "print(f\"- salário bruto: R${salario_bruto:.2f}\")\n",
    "print(f\"- IR (11%): R${valor_ir:.2f}\")\n",
    "print(f\"- INSS (8%): R${valor_inss:.2f}\")\n",
    "print(f\"- Sindicato (5%): R${valor_sindicato:.2f}\")\n",
    "print(f\"= Salário Liquido: R${salario_bruto - valor_ir - valor_inss - valor_sindicato:.2f}\")\n"
   ]
  }
 ],
 "metadata": {
  "kernelspec": {
   "display_name": "Python 3",
   "language": "python",
   "name": "python3"
  },
  "language_info": {
   "codemirror_mode": {
    "name": "ipython",
    "version": 3
   },
   "file_extension": ".py",
   "mimetype": "text/x-python",
   "name": "python",
   "nbconvert_exporter": "python",
   "pygments_lexer": "ipython3",
   "version": "3.13.1"
  }
 },
 "nbformat": 4,
 "nbformat_minor": 2
}
