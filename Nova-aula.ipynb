{
 "cells": [
  {
   "cell_type": "markdown",
   "metadata": {},
   "source": [
    "## Aula de revisão + GITHUB\n",
    "\n"
   ]
  },
  {
   "cell_type": "markdown",
   "metadata": {},
   "source": [
    "## Fluxos Sequeciais\n"
   ]
  },
  {
   "cell_type": "markdown",
   "metadata": {},
   "source": [
    "Faça um Programa que pergunte quanto você ganha por hora e o número de horas trabalhadas no mês. Calcule e mostre o total do seu salário no referido mês, sabendo-se que são descontados 11% para o imposto de renda, 8% para o INSS e 5% para o sindicato, faça um programa que nos dê: salário bruto. quanto pagou ao INSS. quanto pagou ao sindicato. o salário liquido. calcule os descontos e o salário líquido, conforme a tabela a baixo:\n",
    "\n",
    "- Salário Bruto\n",
    "- IR (11%)\n",
    "- INSS(8%)\n",
    "- SINDICATO (5%)"
   ]
  },
  {
   "cell_type": "code",
   "execution_count": 4,
   "metadata": {},
   "outputs": [
    {
     "name": "stdout",
     "output_type": "stream",
     "text": [
      "- salário bruto: R$2640.00\n",
      "- IR (11%): R$290.40\n",
      "- INSS (8%): R$211.20\n",
      "- Sindicato (5%): R$132.00\n",
      "= Salário Liquido: R$2006.40\n"
     ]
    }
   ],
   "source": [
    "# Solução\n",
    "\n",
    "# Pedir ao usuario o seu valor por hora\n",
    "\n",
    "valor_hora = float(input(\"Digite o seu valor por hora: \"))\n",
    "\n",
    "# Pedir ao usuario o numero de horas trabalhadas no mês\n",
    "\n",
    "horas_trabalhadas = float(input(\"Digite o numero de horas trabalhadas no mês: \"))\n",
    "\n",
    "# Multiplicar os dois valores anteriores e guardo numa variavel\n",
    "\n",
    "salario_bruto = valor_hora * horas_trabalhadas\n",
    "\n",
    "# Para saber o que pagar de IR, multiplico o salario bruto vezes 11% e guardo numa variavel\n",
    "\n",
    "valor_ir = salario_bruto * 0.11\n",
    "\n",
    "# Para saber o que pagar de INSS, multiplico o salario bruto vezes 8% guardo numa variavel\n",
    "\n",
    "valor_inss = salario_bruto * 0.08\n",
    "\n",
    "# Para saber o que pagar de SINDICATO, multiplico o salario bruto vezes 5% guardo numa variavel\n",
    "\n",
    "valor_sindicato = salario_bruto * 0.05\n",
    "\n",
    "# Imprimo a tabela conforme solicitado\n",
    "\n",
    "print(f\"- salário bruto: R${salario_bruto:.2f}\")\n",
    "print(f\"- IR (11%): R${valor_ir:.2f}\")\n",
    "print(f\"- INSS (8%): R${valor_inss:.2f}\")\n",
    "print(f\"- Sindicato (5%): R${valor_sindicato:.2f}\")\n",
    "print(f\"= Salário Liquido: R${salario_bruto - valor_ir - valor_inss - valor_sindicato:.2f}\")\n"
   ]
  },
  {
   "cell_type": "markdown",
   "metadata": {},
   "source": [
    "## Fluxos Condicionais"
   ]
  },
  {
   "cell_type": "markdown",
   "metadata": {},
   "source": [
    "Faça um programa que faça 5 perguntas para uma pessoa sobre um crime. As perguntas são:\n",
    "\n",
    "\"Telefonou para vitima?\" \"Esteve no local do crime ?\" \"Mora perto da vitima?\" \"Devia para a vitima?\" \"Já trabalhou com a vitima?\"\n",
    "\n",
    "O programa deve no final emitir uma classificação sobre a participação da pessoa no crime. Se a pessoa responder positivamente a 2 questões ela deve ser classificada como \"Suspeita\", entre 3 e 4 como \"Cúmplice\" e 5 como \"Assassino\". Caso contrário, ele será classificado como \"Inocente\"."
   ]
  },
  {
   "cell_type": "code",
   "execution_count": 20,
   "metadata": {},
   "outputs": [
    {
     "name": "stdout",
     "output_type": "stream",
     "text": [
      "Digite 0 para não e 1 para sim\n",
      "suspeito\n"
     ]
    }
   ],
   "source": [
    "# Solução\n",
    "\n",
    "# Cria uma lista com todas as perguntas\n",
    "perguntas = [\"Telefonou para vitima?\", \"Esteve no local do crime?\", \"Mora perto da vitima?\", \"Devia para vitima?\", \"Ja trabalhou com vitima?\"]\n",
    "\n",
    "# Cria uma variável para armazenar as respostas\n",
    "\n",
    "respostas = 0\n",
    "# Orientar para que ele responda 0 (n) ou 1 (s)\n",
    "\n",
    "print(\"Digite 0 para não e 1 para sim\")\n",
    "\n",
    "# Perguntar ao usuario seguindo a lista\n",
    "\n",
    "for pergunta in range(len(perguntas)):\n",
    "\n",
    "# A cada resposta, some a variável 0 (não) ou 1 (sim)\n",
    "\n",
    "    respostas += int(input(\"pergunta\"))\n",
    "\n",
    "\n",
    "# Se a quantidade de resposta positivas for igual a 2, imprimir \"suspeito\"\n",
    "\n",
    "if (respostas == 2):\n",
    "    print(\"suspeito\")\n",
    "\n",
    "# Se a quantidade de resposta positivas for entre 3 e 4, imprimr \"cumplice\"\n",
    "\n",
    "elif(respostas == 3 or 4):\n",
    "    print(\"cumplice\")\n",
    "\n",
    "# Se a quantidade de resposta positivas for igual a 5, imprimir \"assassino\"\n",
    "\n",
    "elif(respostas == 5):\n",
    "    print(\"assasino\")\n",
    "\n",
    "# caso contrario, imprimir \"inocente\"\n",
    "\n",
    "else:\n",
    "    print(\"inocente\")"
   ]
  },
  {
   "cell_type": "markdown",
   "metadata": {},
   "source": [
    "## Fluxos de Repetição"
   ]
  },
  {
   "cell_type": "markdown",
   "metadata": {},
   "source": [
    "Crie um programa em Python que solicita ao usuario uma senha numérica de 4 digitos. O programa deve repetir essa solicitação até que o usuário informe a senha correta(1234)"
   ]
  },
  {
   "cell_type": "code",
   "execution_count": 1,
   "metadata": {},
   "outputs": [
    {
     "name": "stdout",
     "output_type": "stream",
     "text": [
      "senha correta\n"
     ]
    }
   ],
   "source": [
    "# Solução\n",
    "\n",
    "# Crie um programa em python que solicita ao usuario uma senha de 4 digitos\n",
    "\n",
    "senha_digitada = int(input(\"Digite uma senha de 4 digitos: \"))\n",
    "\n",
    "# O programa deve repetir essa solicitação até que o usuario informe a senha correta 123\n",
    "\n",
    "senha_correta = 1234\n",
    "\n",
    "while senha_digitada != senha_correta:\n",
    "    print(\"senha incorreta, tente novamente! \")\n",
    "    senha_digitada = input(\"Digite a senha: \")\n",
    "\n",
    "print(\"senha correta\")\n",
    " "
   ]
  },
  {
   "cell_type": "markdown",
   "metadata": {},
   "source": [
    "# Uso de funções"
   ]
  },
  {
   "cell_type": "code",
   "execution_count": null,
   "metadata": {},
   "outputs": [
    {
     "name": "stdout",
     "output_type": "stream",
     "text": [
      "Bom dia! \n",
      "None\n",
      "Bom dia! \n",
      "None\n"
     ]
    }
   ],
   "source": [
    "def saudacao_by_periodo(horario):\n",
    "    \n",
    "    if horario == \"M\" or \"m\": # SE \n",
    "        print(\"Bom dia! \")\n",
    "    elif horario == \"V\" or \"v\": # ELSE + IF ---> DEFINE OUTRA CONDIÇÃO CASO A PRIMEIRA SEJA FALSA\n",
    "        print(\"Boa tarde! \")\n",
    "    elif horario == \"N\" or \"n\":\n",
    "        print(\"Boa noite! \")\n",
    "    else: # DEFINA UMA MENSAGEM SE TODAS AS CONDIÇÕES ANTERIORES FOREM FALSAS\n",
    "        return \"Valor inválido! \"\n",
    "\n",
    "horario = input(\"Digite o turno (M-matutino ou V-vespertino ou N-noturno): \")\n",
    "\n",
    "turnos = (\"M\", \"m\", \"V\", \"v\", \"N\", \"n\")\n",
    "\n",
    "while horario in turnos: # WHILE --> ENQUANTO A CONDIÇÃO FOR VERDADEIRA\n",
    "    print(saudacao_by_periodo(horario))\n",
    "    horario = input(\"Digite o turno (M-matutino ou V-vespertino ou N-noturno)\")"
   ]
  },
  {
   "cell_type": "markdown",
   "metadata": {},
   "source": [
    "## NUMPY: Exemplo\n",
    "\n",
    "\"Resenha de filme\" é um site de resenhas de filmes onde quatro bons amiggos e criticos de filmes: gabriel, kleber, leandro e rodrigo assistem a filmes e dão a eles notas em uma escala de 0 a 100"
   ]
  },
  {
   "cell_type": "code",
   "execution_count": null,
   "metadata": {},
   "outputs": [
    {
     "name": "stdout",
     "output_type": "stream",
     "text": [
      "[2.   0.75 2.   1.   0.5 ]\n"
     ]
    }
   ],
   "source": [
    "import numpy as np"
   ]
  },
  {
   "cell_type": "markdown",
   "metadata": {},
   "source": [
    "Quando toda turma classifica um filme, podemos armazenar suas classificações em um array NumPy movie_ratings:"
   ]
  },
  {
   "cell_type": "code",
   "execution_count": 8,
   "metadata": {},
   "outputs": [
    {
     "data": {
      "text/plain": [
       "array([[0.58019398, 0.40254031],\n",
       "       [0.5708339 , 0.91162446],\n",
       "       [0.51210616, 0.40730905],\n",
       "       [0.23341728, 0.9870342 ]])"
      ]
     },
     "execution_count": 8,
     "metadata": {},
     "output_type": "execute_result"
    }
   ],
   "source": [
    "movie_ratings = np.array([63.0, 54.0, 70.0, 50.0])\n",
    "movie_ratings.dtype\n",
    "\n",
    "random_ratings = np.random.rand(4,2)\n",
    "random_ratings"
   ]
  },
  {
   "cell_type": "markdown",
   "metadata": {},
   "source": [
    "Mas eles assistem a mais de um filme, então temos que criar uma matriz bidimensional onde cada linha contém suas classificações para um filme específico."
   ]
  },
  {
   "cell_type": "code",
   "execution_count": 18,
   "metadata": {},
   "outputs": [
    {
     "data": {
      "text/plain": [
       "array([[63., 54., 70., 50.],\n",
       "       [94., 85., 89., 95.],\n",
       "       [64., 90., 73., 85.]])"
      ]
     },
     "execution_count": 18,
     "metadata": {},
     "output_type": "execute_result"
    }
   ],
   "source": [
    "movie_ratings = np.array([[63.0, 54.0, 70.0, 50.0],\n",
    "                         [94.0, 85.0, 89.0, 95.0],\n",
    "                         [64.0, 90.0, 73.0, 85.0]])\n",
    "movie_ratings"
   ]
  },
  {
   "cell_type": "markdown",
   "metadata": {},
   "source": [
    "Alguns fãs preferem que os filmes sejam classificados em uma escala de cinco estrelas, então podemos usar o Numpy para dividir facilmente cada elemento por 20."
   ]
  },
  {
   "cell_type": "code",
   "execution_count": 19,
   "metadata": {},
   "outputs": [
    {
     "data": {
      "text/plain": [
       "array([[3.15, 2.7 , 3.5 , 2.5 ],\n",
       "       [4.7 , 4.25, 4.45, 4.75],\n",
       "       [3.2 , 4.5 , 3.65, 4.25]])"
      ]
     },
     "execution_count": 19,
     "metadata": {},
     "output_type": "execute_result"
    }
   ],
   "source": [
    "movie_ratings_stars = movie_ratings / 20\n",
    "movie_ratings_stars"
   ]
  },
  {
   "cell_type": "markdown",
   "metadata": {},
   "source": [
    "Agora, digamos que as classificações estejam sempre na mesma ordem (Luísa, Maria, Tony, Kaio). Se quiséssemos criar uma matriz que tivesse apenas as classificações de Tony, poderíamos selecioná-las em nossa matriz movie_rastings."
   ]
  },
  {
   "cell_type": "code",
   "execution_count": 26,
   "metadata": {},
   "outputs": [
    {
     "data": {
      "text/plain": [
       "array([70., 89., 73.])"
      ]
     },
     "execution_count": 26,
     "metadata": {},
     "output_type": "execute_result"
    }
   ],
   "source": [
    "tony_ratings = movie_ratings[:, 2]\n",
    "tony_ratings"
   ]
  },
  {
   "cell_type": "markdown",
   "metadata": {},
   "source": [
    "Agora, digamos que descobrimos que temos gostos muito parecidos com os de Maria, então queremos ver apenas filmes aos quais ele dá uma boa classificação. Podemos usar a lógica para selecionar esses filmes.\n",
    "\n",
    "Vamos selecionar todas as classificações de Maria que são acima de 80:"
   ]
  },
  {
   "cell_type": "code",
   "execution_count": 28,
   "metadata": {},
   "outputs": [
    {
     "data": {
      "text/plain": [
       "array([85., 90.])"
      ]
     },
     "execution_count": 28,
     "metadata": {},
     "output_type": "execute_result"
    }
   ],
   "source": [
    "maria_ratings = movie_ratings[:, 1]\n",
    "maria_ratings[maria_ratings> 80]"
   ]
  },
  {
   "cell_type": "markdown",
   "metadata": {},
   "source": [
    "## Numpy: Exercicio"
   ]
  },
  {
   "cell_type": "markdown",
   "metadata": {},
   "source": [
    "Farinha - 2 xícaras açúcar - 0,75 xícaras ovos - 2 ovos leite - 1 xícara manteiga - 0,5 xícaras \n",
    "\n",
    "Crie um array Numpy qeu represente esses dodos. Cada elemento deve ser um número (por exemplo, 2 para \"2 xícaras\"). Salve esse array como cupcakes."
   ]
  },
  {
   "cell_type": "code",
   "execution_count": 29,
   "metadata": {},
   "outputs": [
    {
     "name": "stdout",
     "output_type": "stream",
     "text": [
      "[2.   0.75 2.   1.   0.5 ]\n"
     ]
    }
   ],
   "source": [
    "# Solução\n",
    "cupcakes = np.array([2, 0.75, 2, 1, 0.5])\n",
    "print(cupcakes)"
   ]
  },
  {
   "cell_type": "markdown",
   "metadata": {},
   "source": [
    "A assistente de Joana compilou todas as suas receitas em um arquivo csv (comma-separated) chamado recipes.csv. Carregue esse arquivo em uma variável chamada recipes. Cada linha representa uma receita diferente. Cada coluna representa um ingrediente diferente."
   ]
  },
  {
   "cell_type": "code",
   "execution_count": 50,
   "metadata": {},
   "outputs": [
    {
     "data": {
      "text/plain": [
       "array([[2.   , 0.75 , 2.   , 1.   , 0.5  ],\n",
       "       [1.   , 0.125, 1.   , 1.   , 0.125],\n",
       "       [2.75 , 1.5  , 1.   , 0.   , 1.   ],\n",
       "       [4.   , 0.5  , 2.   , 2.   , 0.5  ]])"
      ]
     },
     "execution_count": 50,
     "metadata": {},
     "output_type": "execute_result"
    }
   ],
   "source": [
    "# Solução\n",
    "recipes = np.genfromtxt(\"recipes.csv\", delimiter=\",\")\n",
    "recipes"
   ]
  },
  {
   "cell_type": "markdown",
   "metadata": {},
   "source": [
    "A 3 coluna representa o número de ovos que cada receita necessita\n",
    "\n",
    "Selecione todos os elementos da 3 coluna e salve-os na variável eggs."
   ]
  },
  {
   "cell_type": "code",
   "execution_count": null,
   "metadata": {},
   "outputs": [
    {
     "data": {
      "text/plain": [
       "array([2.  , 0.75])"
      ]
     },
     "execution_count": 31,
     "metadata": {},
     "output_type": "execute_result"
    }
   ],
   "source": [
    "# Solução\n",
    "\n",
    "eggs = cupcakes[:2]\n",
    "eggs"
   ]
  },
  {
   "cell_type": "markdown",
   "metadata": {},
   "source": [
    " Quais receitas exigem exatamente 1 ovo? Use uma declaração lógica para obter True ou False para cada valor de eggs."
   ]
  },
  {
   "cell_type": "code",
   "execution_count": 33,
   "metadata": {},
   "outputs": [
    {
     "data": {
      "text/plain": [
       "array([1.])"
      ]
     },
     "execution_count": 33,
     "metadata": {},
     "output_type": "execute_result"
    }
   ],
   "source": [
    "# Solução\n",
    "\n",
    "one_eggs = cupcakes[cupcakes == 1]\n",
    "one_eggs"
   ]
  },
  {
   "cell_type": "markdown",
   "metadata": {},
   "source": [
    "Joana fará 2 fornadas de cupcakes (1 fileira) a 1 fornadade biscoitos (3 fileira)\n",
    "\n",
    "Você já tem uma variável para cupcakes. Crie uma variável cookies com os dados da 3 linha"
   ]
  },
  {
   "cell_type": "code",
   "execution_count": 51,
   "metadata": {},
   "outputs": [
    {
     "data": {
      "text/plain": [
       "array([2.75, 1.5 , 1.  , 0.  , 1.  ])"
      ]
     },
     "execution_count": 51,
     "metadata": {},
     "output_type": "execute_result"
    }
   ],
   "source": [
    "# Solução\n",
    "\n",
    "cookies = np.array(recipes[2]) # COPIA A LINHA 3 DO ARRAY RECIPES\n",
    "cookies"
   ]
  },
  {
   "cell_type": "markdown",
   "metadata": {},
   "source": [
    "Obtenha um número de ingredientes para uma porção dupla de cupcakes usando mulpiplicação em cupcakes.\n",
    "\n",
    "Salve sua nova variavel em double_batch"
   ]
  },
  {
   "cell_type": "code",
   "execution_count": 34,
   "metadata": {},
   "outputs": [
    {
     "data": {
      "text/plain": [
       "array([4. , 1.5, 4. , 2. , 1. ])"
      ]
     },
     "execution_count": 34,
     "metadata": {},
     "output_type": "execute_result"
    }
   ],
   "source": [
    "# Solução\n",
    "double_batch = cupcakes * 2\n",
    "double_batch"
   ]
  },
  {
   "cell_type": "markdown",
   "metadata": {},
   "source": [
    "Crie uma nova variável chamada grocery_list adicionando cookies e double_batch."
   ]
  },
  {
   "cell_type": "code",
   "execution_count": 36,
   "metadata": {},
   "outputs": [
    {
     "data": {
      "text/plain": [
       "array([[2.  , 0.75, 2.  , 1.  , 0.5 ],\n",
       "       [4.  , 1.5 , 4.  , 2.  , 1.  ]])"
      ]
     },
     "execution_count": 36,
     "metadata": {},
     "output_type": "execute_result"
    }
   ],
   "source": [
    "# Solução\n",
    "\n",
    "#grocery_list = cookies + double_batch\n",
    "grocery_list = np.array([cupcakes, double_batch])\n",
    "grocery_list"
   ]
  },
  {
   "cell_type": "markdown",
   "metadata": {},
   "source": [
    "## PANDAS: UMA BREVE INTRODUÇÃO\n",
    "\n",
    "O pandas pode nos fornecer respostas sobre os dados, como por exemplo:\n",
    "\n",
    "Existe uma correlação entre duas ou mais colunas? Qual é o valor? Qual o valor máximo? Qual o valor mínimo? O pandas também é capaz de excluir linhas que são irrelevantes ou que contêm valores incorretos, como valores vazios ou NULL, deixando os dados limpos.\n",
    "\n",
    "Relacionando inicialmente as funções do Numpy com o pandas, poderíamos gerar uma série com os dados da porção dupla de cupcakes:"
   ]
  },
  {
   "cell_type": "code",
   "execution_count": 37,
   "metadata": {},
   "outputs": [],
   "source": [
    "import pandas as pd"
   ]
  },
  {
   "cell_type": "code",
   "execution_count": null,
   "metadata": {},
   "outputs": [
    {
     "data": {
      "text/plain": [
       "0    4.0\n",
       "1    1.5\n",
       "2    4.0\n",
       "3    2.0\n",
       "4    1.0\n",
       "dtype: float64"
      ]
     },
     "execution_count": 38,
     "metadata": {},
     "output_type": "execute_result"
    }
   ],
   "source": [
    "double_batch_series = pd.Series(double_batch) # PARA INCLUIR INDICES PAR ACADA ELEMENTO\n",
    "double_batch_series"
   ]
  },
  {
   "cell_type": "markdown",
   "metadata": {},
   "source": [
    "Podemos gerar um DataFrame a partir de várias series:"
   ]
  },
  {
   "cell_type": "code",
   "execution_count": 52,
   "metadata": {},
   "outputs": [
    {
     "name": "stdout",
     "output_type": "stream",
     "text": [
      "      0      1    2    3      4\n",
      "0  2.00  0.750  2.0  1.0  0.500\n",
      "1  1.00  0.125  1.0  1.0  0.125\n",
      "2  2.75  1.500  1.0  0.0  1.000\n",
      "3  4.00  0.500  2.0  2.0  0.500\n"
     ]
    }
   ],
   "source": [
    "df = pd.DataFrame(recipes)\n",
    "print(df)"
   ]
  },
  {
   "cell_type": "markdown",
   "metadata": {},
   "source": [
    "Por exemplo, se precisássemos listar as nossas compras do supermercado, teríamos algo semelhante a isso:"
   ]
  },
  {
   "cell_type": "code",
   "execution_count": 53,
   "metadata": {},
   "outputs": [],
   "source": [
    "df = pd.DataFrame(recipes, columns=['Flour', 'Milk', 'Sugar', 'Butter', 'Eggs'])\n"
   ]
  },
  {
   "cell_type": "code",
   "execution_count": 54,
   "metadata": {},
   "outputs": [
    {
     "name": "stdout",
     "output_type": "stream",
     "text": [
      "   Flour   Milk  Sugar  Butter   Eggs\n",
      "0   2.00  0.750      2       1  0.500\n",
      "1   1.00  0.125      1       1  0.125\n",
      "2   2.75  1.500      1       0  1.000\n",
      "3   4.00  0.500      2       2  0.500\n"
     ]
    }
   ],
   "source": [
    "df2 = pd.read_csv('recipes.csv', delimiter=',' , names=['Flour', 'Milk', 'Sugar', 'Butter', 'Eggs'])\n",
    "print(df2)"
   ]
  },
  {
   "cell_type": "markdown",
   "metadata": {},
   "source": [
    "Exercicios escolhido para exemplo"
   ]
  },
  {
   "cell_type": "code",
   "execution_count": 49,
   "metadata": {},
   "outputs": [
    {
     "name": "stdout",
     "output_type": "stream",
     "text": [
      "   Frutas preço quantidade\n",
      "0  Banana  Maça       Pera\n",
      "1     7.9  10.2      11.88\n",
      "2      12     3          4\n"
     ]
    }
   ],
   "source": [
    "# Exercicio escolhido\n",
    "# Crie um DataFrame com as seguintes informações:\n",
    "# Coluna \"fruta\": \"Banana\", \"Maça\", \"Pera\"\n",
    "# Coluna \"preço\": 7.90, 10.20, 11.88\n",
    "# Coluna \"quantidade\": 12, 3, 4\n",
    "\n",
    "feira = np.array([[\"Banana\", \"Maça\", \"Pera\"],[7.90, 10.20, 11.88], [12, 3, 4]])\n",
    "\n",
    "df = pd.DataFrame(feira, columns=[\"Frutas\", \"preço\", \"quantidade\"])\n",
    "\n",
    "print(df)"
   ]
  }
 ],
 "metadata": {
  "kernelspec": {
   "display_name": "Python 3",
   "language": "python",
   "name": "python3"
  },
  "language_info": {
   "codemirror_mode": {
    "name": "ipython",
    "version": 3
   },
   "file_extension": ".py",
   "mimetype": "text/x-python",
   "name": "python",
   "nbconvert_exporter": "python",
   "pygments_lexer": "ipython3",
   "version": "3.13.1"
  }
 },
 "nbformat": 4,
 "nbformat_minor": 2
}
